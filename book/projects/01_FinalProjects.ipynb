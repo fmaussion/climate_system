{
 "cells": [
  {
   "cell_type": "markdown",
   "metadata": {},
   "source": [
    "# Final group projects: instructions "
   ]
  },
  {
   "cell_type": "markdown",
   "metadata": {},
   "source": [
    "## Objectives "
   ]
  },
  {
   "cell_type": "markdown",
   "metadata": {},
   "source": [
    "In this final project, you will apply the methods you learned over the past weeks to address one (or more) research question(s) of your choice.\n",
    "\n",
    "You will write a short report in the form of a Jupyter Notebook: containing all analyses, plots, as well as interpretations. You will structure your report around the stated research question with (1) a short introduction and statement of the research question, (2) development and analyses, and (3) conclusions. The research questions can be formulated in one to three sentences and can be descriptive or quantitative  (e.g. _\"What are the main features of the precipitation climate of South America?\"_,  _\"What are the main differences between the CMIP5 and CMIP6 model ensembles?\"_, _\"What is the effect of the NAO on the North European climate?\"_, etc.). \n",
    "\n",
    "The analyses can (and should) be driven by the scientific literature, i.e. you are encouraged to find scientific papers from which you can reproduce the analyses with your own data. \n",
    "\n",
    "The main learning outcomes are:\n",
    "- independent formulation of a simple research question related to the lecture \n",
    "- application of the tools discovered in the lecture (Notebooks, xarray) to a real-world research question\n",
    "- group work and discussion: you will have to decide on responsibilities (who downloads the data, searches literature, writes, etc.)"
   ]
  },
  {
   "cell_type": "markdown",
   "metadata": {},
   "source": [
    "## Requirements "
   ]
  },
  {
   "cell_type": "markdown",
   "metadata": {},
   "source": [
    "### Dates "
   ]
  },
  {
   "cell_type": "markdown",
   "metadata": {},
   "source": [
    "- Presentations: Tuesday XX.01.2021. Each group: 12 min pres. + 3 min discussion \n",
    "- Final report submission deadline: 1 hour before the presentations date"
   ]
  },
  {
   "cell_type": "markdown",
   "metadata": {},
   "source": [
    "### Formal requirements "
   ]
  },
  {
   "cell_type": "markdown",
   "metadata": {},
   "source": [
    "- final report (a jupyter notebook) **submitted in time** (as `.ipynb` file and as `.html`).\n",
    "- final presentation (PDF) **submitted in time and presented as a group**\n",
    "- **each group member must contribute** to the report and presentation, the personal contributions should be stated in the introduction of the final report.\n",
    "- the notebook should be **self-contained** and must be **structured** around well defined sections / analyses / plots / descriptions.\n",
    "- **rigor**: the plots must be as understandable as possible (title, units, x and y axis labels, appropriate colors and levels...).\n",
    "- **no plagiarism**: Findings or assumptions must be supported by appropriate references if they are not derived from the figures. Do NOT copy paste text from elsewhere or, if you do, put it in quotation marks and say where its taken from.\n",
    "- **reproducible science**: I must be able to run the code and understand it (i.e. if you use new data or new python packages you must let me know in your report)."
   ]
  },
  {
   "cell_type": "markdown",
   "metadata": {},
   "source": [
    "### Scientific requirements "
   ]
  },
  {
   "cell_type": "markdown",
   "metadata": {},
   "source": [
    "- at least one (but not more than 3) **research question**(s), clearly formulated (examples below).\n",
    "- a **conclusion paragraph** re-visiting these research questions in light of your analyses.\n",
    "- at least **8 self-made figures** (one figure can have more than one panel in it), **but not more than 20** (choose wisely!). One or two paragraphs describing each figure (mandatory, i.e. NO figure without associated text). \n",
    "- **independent research**: it is perfectly fine to seek for inspiration or additional figures in existing works (even recommended for such a short project) but the report must come from at least 75% of your own analyses and figures (rule of thumb). Where possible, try to reproduce the figures with your own data. \n",
    "- **literature**: at least five scientific publications must be cited in the report. "
   ]
  },
  {
   "cell_type": "markdown",
   "metadata": {},
   "source": [
    "## Grading "
   ]
  },
  {
   "cell_type": "markdown",
   "metadata": {},
   "source": [
    "I will give one grade per project, according to the following table (total 15 points):\n",
    "- **Oral presentation (5 points)**: quality / readability of the slides, presentation quality, group work\n",
    "- **Formalities (3 points)**: formal requirements (structure, references, figure axes, legends, etc.)\n",
    "- **Scientific content (7 points)**: formulation of the research question(s), quality of the analyses and interpretation, complexity of the conducted analyses\n",
    "- **Originality (up to 3 bonus points)**: going beyond the project ideas listed below, independent research (papers, data, etc.)"
   ]
  },
  {
   "cell_type": "markdown",
   "metadata": {},
   "source": [
    "## Information for returning students "
   ]
  },
  {
   "cell_type": "markdown",
   "metadata": {},
   "source": [
    "If you have followed my lecture in the previous years: the projects this year are different. Their topics have broadened in scope (more opportunities for you, but also more research), and the requirements in terms of \"volume\" have lowered (less plots, less text). Simply put: I'm asking for quality over quantity. \n",
    "\n",
    "Use your freedom wisely!"
   ]
  },
  {
   "cell_type": "markdown",
   "metadata": {},
   "source": [
    "## Data"
   ]
  },
  {
   "cell_type": "markdown",
   "metadata": {},
   "source": [
    "See [the data download page](../download). In addition to the data used during the lecture, you now have access to more ERA5 variables (surface and upper level variables, vertical integrals of water vapor transport) as well as new datasets (CRU for the past climate, CMIP5/CMIP6 for the future climate).   "
   ]
  },
  {
   "cell_type": "markdown",
   "metadata": {},
   "source": [
    "## Getting started "
   ]
  },
  {
   "cell_type": "markdown",
   "metadata": {},
   "source": [
    "All the notebooks in this section are here to give you some elements to get started with the coding. I recommend however to spend parts of the Christmas break to read about the topic you'd like to investigate, and agree with your group colleagues about the tasks before starting with the coding. "
   ]
  },
  {
   "cell_type": "markdown",
   "metadata": {},
   "source": [
    "## Example research topics "
   ]
  },
  {
   "cell_type": "markdown",
   "metadata": {},
   "source": [
    "Since the formulation of a research question is part of the fun, I'll just provide elements of questions here that you will have to refine and adapt to your own interests! "
   ]
  },
  {
   "cell_type": "markdown",
   "metadata": {},
   "source": [
    "### Regional climatology with ERA5 data"
   ]
  },
  {
   "cell_type": "markdown",
   "metadata": {},
   "source": [
    "Characterizing the surface climate (precipitation or temperature)  of a specific region / continent and describe its climatological drivers.\n",
    "\n",
    "Example regions:\n",
    "- South America\n",
    "- Tibetan Plateau / High Mountain Asia\n",
    "- East Asia\n",
    "- Horn of Africa (regional)\n",
    "- Antarctica or Polar climate\n",
    "\n",
    "Example drivers / plot ideas:\n",
    "- seasonality of the variable (e.g. precipitation)\n",
    "- 850hPa/500hPa/200hPa seasonal circulation plots\n",
    "- water vapor transport\n",
    "- cloud cover\n",
    "- surface energy balance\n",
    "\n",
    "With these topics you can focus on the average (mean) climate, but you can add extensions with e.g. the temporal variability and the effect of ENSO, NAO, or other indices.\n",
    "\n",
    "**Literature to get you started:** [chapters of the Encyclopedia of World Climatology](https://www.dropbox.com/s/vwf3pbp23jiyubp/literature_regional_climate.zip?dl=1) about regional climates. Full book available [here](https://link.springer.com/referencework/10.1007/1-4020-3266-8)."
   ]
  },
  {
   "cell_type": "markdown",
   "metadata": {},
   "source": [
    "### Remote and local impacts of ENSO with ERA5 data"
   ]
  },
  {
   "cell_type": "markdown",
   "metadata": {},
   "source": [
    "Many regions of the world are affected by ENSO. Based on ERA5 data and an ENSO index, you can study the influence of ENSO on the climate of a specific region, for example the West Coast of North America or South America.\n",
    "\n",
    "This topic will bring you to read the literature of the connection mechanisms between ENSO and your region of interest, and to analyze these mechanisms with atmospheric circulation plots.\n",
    "\n",
    "**Literature to get you started:** depends on your chosen region!"
   ]
  },
  {
   "cell_type": "markdown",
   "metadata": {},
   "source": [
    "### The North Atlantic Oscillation with ERA5 data"
   ]
  },
  {
   "cell_type": "markdown",
   "metadata": {},
   "source": [
    "Based on the seminal paper by [Hurrell et al., 2003](https://www.dropbox.com/s/d8zj5gsex08yybm/Hurrell%20et%20al.%20-%202003%20-%20An%20Overview%20of%20the%20North%20Atlantic%20Oscillation.pdf?dl=1), you can analyze the impact of the NAO on the climate of the Northern Hemisphere. You are invited to reproduce several of the plots in the paper, and chose a region of interest to study the impact of NAO in more detail.\n",
    "\n",
    "**Literature to get you started:** [Hurrell et al., 2003](https://www.dropbox.com/s/d8zj5gsex08yybm/Hurrell%20et%20al.%20-%202003%20-%20An%20Overview%20of%20the%20North%20Atlantic%20Oscillation.pdf?dl=1)"
   ]
  },
  {
   "cell_type": "markdown",
   "metadata": {},
   "source": [
    "### Monsoons with ERA5 data"
   ]
  },
  {
   "cell_type": "markdown",
   "metadata": {},
   "source": [
    "With this topic, you will have a closer look at a fundamental aspect of the climate in Asia, West Africa, and South America. You can pick either all three regions and focus on the similarities / differences between them, or pick one in particular and study its monsoon system in more detail.\n",
    "\n",
    "**Literature to get you started:** [Monsoon Chapters](https://www.dropbox.com/s/n0gu4egdxyjotb8/Webster_Fasullo__2002__MONSOON_Dynamical_Theory.pdf?dl=1) of the Encyclopedia of Atmospheric Sciences."
   ]
  },
  {
   "cell_type": "markdown",
   "metadata": {},
   "source": [
    "### Future climate change with CMIP data (more ambitious)"
   ]
  },
  {
   "cell_type": "markdown",
   "metadata": {},
   "source": [
    "Based on either CMIP5 or CMIP6 data (or both), you can address many (!) research questions! Here are some:\n",
    "- how will the climate (temperature, precipitation) change in the future according to the models?\n",
    "- what is the spread between the models? Globally? Regionally?\n",
    "- how well do the models represent the present-day climate?\n",
    "- do all models agree on the \"wet gets wetter, dry gets dryer\" climate change?\n",
    "- based on CMIP5 data, what is the amount of climate change due to anthropogenic climate change? (attribution)\n",
    "- ...\n",
    "\n",
    "**Literature to get you started**: [Carbon brief](https://www.carbonbrief.org/cmip6-the-next-generation-of-climate-models-explained)"
   ]
  }
 ],
 "metadata": {
  "kernelspec": {
   "display_name": "Python 3",
   "language": "python",
   "name": "python3"
  },
  "language_info": {
   "codemirror_mode": {
    "name": "ipython",
    "version": 3
   },
   "file_extension": ".py",
   "mimetype": "text/x-python",
   "name": "python",
   "nbconvert_exporter": "python",
   "pygments_lexer": "ipython3",
   "version": "3.8.5"
  }
 },
 "nbformat": 4,
 "nbformat_minor": 4
}
