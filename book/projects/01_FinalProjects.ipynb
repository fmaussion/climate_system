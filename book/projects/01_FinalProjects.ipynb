{
 "cells": [
  {
   "cell_type": "markdown",
   "metadata": {},
   "source": [
    "# Final group projects: instructions "
   ]
  },
  {
   "cell_type": "markdown",
   "metadata": {},
   "source": [
    "## Objectives "
   ]
  },
  {
   "cell_type": "markdown",
   "metadata": {},
   "source": [
    "In this final project, you will apply the methods you learned over the past weeks to prepare a 20 to 25 minutes \"lecture\" that you will give to your fellow classmates.\n",
    "\n",
    "The main learning outcomes **for the presenters** are:\n",
    "- independent formulation of one or more learning goals related to the topic of your choice \n",
    "- application of the tools discovered in the lecture (Notebooks, xarray) to real-world applications\n",
    "- group work and discussion: you will have to decide on responsibilities (who downloads the data, searches literature, writes up the results, etc.)\n",
    "\n",
    "The main learning outcomes for the **listeners** will be to learn about topics that we didn't cover in the lecture (e.g. ENSO, NAO, Monsoons, etc.)."
   ]
  },
  {
   "cell_type": "markdown",
   "metadata": {},
   "source": [
    "## Requirements "
   ]
  },
  {
   "cell_type": "markdown",
   "metadata": {},
   "source": [
    "### Deadlines "
   ]
  },
  {
   "cell_type": "markdown",
   "metadata": {},
   "source": [
    "- Presentations: **Tuesday 24.01.2021** from 08:00 to 12:00 (usual time + programming time slot). Each group: ~ 20-25 min pres. + 5-10 min discussion, 5 groups in total.\n",
    "- Final report submission deadline: 1 hour before the presentation date"
   ]
  },
  {
   "cell_type": "markdown",
   "metadata": {},
   "source": [
    "### Formal requirements "
   ]
  },
  {
   "cell_type": "markdown",
   "metadata": {},
   "source": [
    "- **the main bulk of work will be to prepare the presentation**. The presentation should contain a **balanced mix between material taken from textbooks / research papers and your own analyses based on climate data**. \n",
    "- Each group will submit:\n",
    "    - one pdf containing the slides you'll show on the presentation day\n",
    "    - the \"speaker notes\" (containing the main messages of each slide in bullet form) either in the same pdf as the slides or separately\n",
    "    - the jupyter notebook(s) used to prepare the plots shown in the presentation (as well as supplementary material if appropriate).\n",
    "- **each group member must contribute** to the presentation. Personal contributions should be stated in the speaker notes and/or in the jupyter notebook.\n",
    "- the notebook should be **self-contained** and must be **structured** around well defined sections / analyses / plots.\n",
    "- **rigor**: the plots must be as understandable as possible (title, units, x and y axis labels, appropriate colors and levels...).\n",
    "- **no plagiarism**: findings or assumptions must be supported by appropriate references if they are not derived from the figures, do not copy from previous years.\n",
    "- **reproducible science**: I should be able to run the code in the notebooks and understand it - be clear and structured! "
   ]
  },
  {
   "cell_type": "markdown",
   "metadata": {},
   "source": [
    "## Grading "
   ]
  },
  {
   "cell_type": "markdown",
   "metadata": {},
   "source": [
    "I will give one grade per project, according to the following table (total 20 points):\n",
    "- **Oral presentation (7 points)**: quality / readability of the slides, presentation quality, group work\n",
    "- **Formalities (3 points)**: formal requirements (structure, references, figure axes, legends, etc.)\n",
    "- **Scientific content (10 points)**: formulation of the learning goals, quality of the analyses and interpretation, complexity of the conducted analyses\n",
    "- **Originality (up to 3 bonus points)**: going beyond the project ideas listed below, independent research (papers, data, etc.)"
   ]
  },
  {
   "cell_type": "markdown",
   "metadata": {},
   "source": [
    "## Data"
   ]
  },
  {
   "cell_type": "markdown",
   "metadata": {},
   "source": [
    "See [the data download page](../download). In addition to the data used during the lecture, you now have access to more ERA5 variables (surface and upper level variables, vertical integrals of water vapor transport) as well as new datasets (CRU for the past climate, CMIP5/CMIP6 for the future climate).   "
   ]
  },
  {
   "cell_type": "markdown",
   "metadata": {},
   "source": [
    "## Getting started "
   ]
  },
  {
   "cell_type": "markdown",
   "metadata": {},
   "source": [
    "All the notebooks we have done so far are here to give you elements to get started with the coding. I recommend however to spend parts of the Christmas break to read about the topic you'd like to investigate, and agree with your group colleagues about the tasks before starting with the coding. "
   ]
  },
  {
   "cell_type": "markdown",
   "metadata": {},
   "source": [
    "## Example lecture topics "
   ]
  },
  {
   "cell_type": "markdown",
   "metadata": {},
   "source": [
    "Since the formulation of a learning goal is part of the fun, I'll provide suggestions here that you will have to refine and adapt to your own interests!\n",
    "\n",
    "Again: the \"lecture\" should fit in 20 minutes (25 minutes max) and contain textbook material (example: \"what are the basic features of NAO?\") as well as your own analyses (example: \"what is the impact of NAO on Northern Europe snowfall?\")."
   ]
  },
  {
   "cell_type": "markdown",
   "metadata": {},
   "source": [
    "### 1. The El Nino Southern Oscillation: physical processes and impacts (with ERA5 data)"
   ]
  },
  {
   "cell_type": "markdown",
   "metadata": {},
   "source": [
    "You will prepare a lecture about ENSO and explain its basic mechanisms, what gave it its name, what are the main indices describing it. For the independent research, describe its the effects on Pacific (and/or) global climate.\n",
    "\n",
    "**Literature to get you started:** \n",
    "- most climatology textbooks, e.g. Marshall and Plumb Chap. 2\n",
    "- https://www.meted.ucar.edu/tropical/textbook_2nd_edition/print_4.htm "
   ]
  },
  {
   "cell_type": "markdown",
   "metadata": {},
   "source": [
    "### 2. The North Atlantic Oscillation: description and impacts (with ERA5 data)"
   ]
  },
  {
   "cell_type": "markdown",
   "metadata": {},
   "source": [
    "You will prepare a lecture about the NAO, mostly based on the paper by [Hurrell et al., 2003](https://www.dropbox.com/s/d8zj5gsex08yybm/Hurrell%20et%20al.%20-%202003%20-%20An%20Overview%20of%20the%20North%20Atlantic%20Oscillation.pdf?dl=1). You can reproduce a large number of the plots of the paper using only ERA5 data. You can choose to characterize NAO statistically, or you can choose to focus on the impacts instead, for example in Europe.\n",
    "\n",
    "**Literature to get you started:** [Hurrell et al., 2003](https://www.dropbox.com/s/d8zj5gsex08yybm/Hurrell%20et%20al.%20-%202003%20-%20An%20Overview%20of%20the%20North%20Atlantic%20Oscillation.pdf?dl=1). You are invited to reproduce several of the plots in the paper, and chose a region of interest to study the impact of NAO in more detail."
   ]
  },
  {
   "cell_type": "markdown",
   "metadata": {},
   "source": [
    "### 3. Monsoons with ERA5 data"
   ]
  },
  {
   "cell_type": "markdown",
   "metadata": {},
   "source": [
    "With this topic, you will have a closer look at a fundamental aspect of the (sub-)tropical climate in Asia, West Africa, and South America. You can pick either all three regions and focus on the similarities / differences between them, or pick one in particular and study its monsoon system in more detail. For the theoretical part, you will focus of the mechanisms driving the monsoons and the seasonal processes.\n",
    "\n",
    "**Literature to get you started:** [Monsoon Chapters](https://www.dropbox.com/s/n0gu4egdxyjotb8/Webster_Fasullo__2002__MONSOON_Dynamical_Theory.pdf?dl=1) of the Encyclopedia of Atmospheric Sciences."
   ]
  },
  {
   "cell_type": "markdown",
   "metadata": {},
   "source": [
    "### 4. Polar climates with ERA5 data"
   ]
  },
  {
   "cell_type": "markdown",
   "metadata": {},
   "source": [
    "**Literature to get you started:** [chapters of the Encyclopedia of World Climatology](https://www.dropbox.com/s/vwf3pbp23jiyubp/literature_regional_climate.zip?dl=1) about regional climates. Full book available [here](https://link.springer.com/referencework/10.1007/1-4020-3266-8)."
   ]
  },
  {
   "cell_type": "markdown",
   "metadata": {},
   "source": [
    "### 5. Tropical climates with ERA5 data "
   ]
  },
  {
   "cell_type": "markdown",
   "metadata": {},
   "source": [
    "**Literature to get you started:** [chapters of the Encyclopedia of World Climatology](https://www.dropbox.com/s/vwf3pbp23jiyubp/literature_regional_climate.zip?dl=1) about regional climates. Full book available [here](https://link.springer.com/referencework/10.1007/1-4020-3266-8)."
   ]
  },
  {
   "cell_type": "markdown",
   "metadata": {},
   "source": [
    "### 6. Performance of CMIP6 climate models "
   ]
  },
  {
   "cell_type": "markdown",
   "metadata": {},
   "source": [
    "Provide an introduction to the CMIP6 ensemble. Compare the model ensemble values with ERA5 and describe their skill for temperature and precipitation, globally and regionally.\n",
    "\n",
    "**Literature to get you started**: [Carbon brief](https://www.carbonbrief.org/cmip6-the-next-generation-of-climate-models-explained)"
   ]
  },
  {
   "cell_type": "markdown",
   "metadata": {},
   "source": [
    "### 7. Past and future climate change signal in CMIP6 climate models "
   ]
  },
  {
   "cell_type": "markdown",
   "metadata": {},
   "source": [
    "Provide an introduction to the CMIP6 ensemble and the various scenarios available. Describe the climate change signal for each climate scenario.\n",
    "\n",
    "**Literature to get you started**: [Carbon brief](https://www.carbonbrief.org/cmip6-the-next-generation-of-climate-models-explained)"
   ]
  },
  {
   "cell_type": "markdown",
   "metadata": {},
   "source": [
    "### 8. Other possible topics"
   ]
  },
  {
   "cell_type": "markdown",
   "metadata": {},
   "source": [
    "**For example,** Regional climatology with ERA5 data. Characterizing the surface climate of a specific region / continent and describe its climatological drivers.\n",
    "\n",
    "Example regions:\n",
    "- South America\n",
    "- Tibetan Plateau / High Mountain Asia\n",
    "- East Asia\n",
    "- Horn of Africa (regional)\n",
    "- Antarctica or Polar climate\n",
    "\n",
    "Example drivers / plot ideas:\n",
    "- seasonality of the variable (e.g. precipitation)\n",
    "- 850hPa/500hPa/200hPa seasonal circulation plots\n",
    "- water vapor transport\n",
    "- cloud cover\n",
    "- surface energy balance\n",
    "\n",
    "With these topics you can focus on the average (mean) climate, but you can add extensions with e.g. the temporal variability and the effect of ENSO, NAO, or other indices.\n",
    "\n",
    "**Or more!** Surface energy balance of Antarctica, circulation plots with CMIP6 models... There are so many topics you could pick!\n",
    "\n",
    "**Literature to get you started:** [chapters of the Encyclopedia of World Climatology](https://www.dropbox.com/s/vwf3pbp23jiyubp/literature_regional_climate.zip?dl=1) about regional climates. Full book available [here](https://link.springer.com/referencework/10.1007/1-4020-3266-8)."
   ]
  }
 ],
 "metadata": {
  "kernelspec": {
   "display_name": "Python 3 (ipykernel)",
   "language": "python",
   "name": "python3"
  },
  "language_info": {
   "codemirror_mode": {
    "name": "ipython",
    "version": 3
   },
   "file_extension": ".py",
   "mimetype": "text/x-python",
   "name": "python",
   "nbconvert_exporter": "python",
   "pygments_lexer": "ipython3",
   "version": "3.10.6"
  }
 },
 "nbformat": 4,
 "nbformat_minor": 4
}
