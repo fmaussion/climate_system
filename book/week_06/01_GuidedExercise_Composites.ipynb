{
 "cells": [
  {
   "cell_type": "markdown",
   "metadata": {},
   "source": [
    "# Guided exercise: indices, composites, correlation maps"
   ]
  },
  {
   "cell_type": "markdown",
   "metadata": {},
   "source": [
    "In this lesson we will introduce some tools that you might find useful for your own projects: how to build composites, how to download and read climate indices, how to compute correlations and correlation maps."
   ]
  },
  {
   "cell_type": "code",
   "execution_count": null,
   "metadata": {},
   "outputs": [],
   "source": [
    "# Import the tools we are going to need today:\n",
    "import matplotlib.pyplot as plt  # plotting library\n",
    "import numpy as np  # numerical library\n",
    "import xarray as xr  # netCDF library\n",
    "import cartopy  # Map projections libary\n",
    "import cartopy.crs as ccrs  # Projections list\n",
    "import pandas as pd  # new package! this is the package at the base of xarray\n",
    "import io, requests\n",
    "# Some defaults:\n",
    "plt.rcParams['figure.figsize'] = (12, 5)  # Default plot size"
   ]
  },
  {
   "cell_type": "markdown",
   "metadata": {},
   "source": [
    "## Let's get some indices!"
   ]
  },
  {
   "cell_type": "markdown",
   "metadata": {},
   "source": [
    "Python makes it very easy to read data directly from a given url:"
   ]
  },
  {
   "cell_type": "markdown",
   "metadata": {},
   "source": [
    "### Niño 3.4 index"
   ]
  },
  {
   "cell_type": "code",
   "execution_count": null,
   "metadata": {},
   "outputs": [],
   "source": [
    "# This just reads the data from an url\n",
    "# Sea Surface Temperature (SST) data from http://www.cpc.ncep.noaa.gov/data/indices/\n",
    "url = 'http://www.cpc.ncep.noaa.gov/products/analysis_monitoring/ensostuff/detrend.nino34.ascii.txt'\n",
    "s = requests.get(url).content\n",
    "df = pd.read_csv(io.StringIO(s.decode('utf-8')), delim_whitespace=True)"
   ]
  },
  {
   "cell_type": "markdown",
   "metadata": {},
   "source": [
    "Panda's dataframes are one of the most widely used tool in the scientific python ecosystem. You'll get to know them better in next semester's glaciology lecture, but for now we are going to convert this to an xarray structure, which we know better:"
   ]
  },
  {
   "cell_type": "code",
   "execution_count": null,
   "metadata": {},
   "outputs": [],
   "source": [
    "# Parse the time and convert to xarray\n",
    "time = pd.to_datetime(df.YR.astype(str) + '-' + df.MON.astype(str))\n",
    "nino34 = xr.DataArray(df.ANOM, dims='time', coords={'time':time})\n",
    "# Apply a 3-month smoothing window\n",
    "nino34 = nino34.rolling(time=3, min_periods=3, center=True).mean()\n",
    "# Select the ERA5 period\n",
    "nino34 = nino34.sel(time=slice('1979', '2018'))"
   ]
  },
  {
   "cell_type": "markdown",
   "metadata": {},
   "source": [
    "**Q: plot the Nino 3.4 index. Add the +0.5 and -0.5 vertical lines. Can you identify (approximately) the various Niño and Niña events? See if it fits to the list of years published [here](https://www.esrl.noaa.gov/psd/enso/past_events.html).**"
   ]
  },
  {
   "cell_type": "code",
   "execution_count": null,
   "metadata": {},
   "outputs": [],
   "source": [
    "# your answer here"
   ]
  },
  {
   "cell_type": "markdown",
   "metadata": {},
   "source": [
    "### North Atlantic Oscillation (NAO)"
   ]
  },
  {
   "cell_type": "code",
   "execution_count": null,
   "metadata": {},
   "outputs": [],
   "source": [
    "# data from http://www.cpc.ncep.noaa.gov/data/teledoc/nao.shtml\n",
    "url = 'http://ftp.cpc.ncep.noaa.gov/wd52dg/data/indices/nao_index.tim'\n",
    "s = requests.get(url).content\n",
    "df = pd.read_csv(io.StringIO(s.decode('utf-8')), delim_whitespace=True, skiprows=7)\n",
    "# Parse the time and convert to xarray\n",
    "time = pd.to_datetime(df.YEAR.astype(str) + '-' + df.MONTH.astype(str))\n",
    "nao = xr.DataArray(df.INDEX, dims='time', coords={'time':time})\n",
    "# Select the ERA period\n",
    "nao = nao.sel(time=slice('1979', '2018'))"
   ]
  },
  {
   "cell_type": "markdown",
   "metadata": {},
   "source": [
    "**Q: plot the NAO index. How would you characterize it, in comparison to Niño 34?**"
   ]
  },
  {
   "cell_type": "code",
   "execution_count": null,
   "metadata": {},
   "outputs": [],
   "source": [
    "# your answer here"
   ]
  },
  {
   "cell_type": "markdown",
   "metadata": {},
   "source": [
    "### Other indexes "
   ]
  },
  {
   "cell_type": "markdown",
   "metadata": {},
   "source": [
    "Basically all possible climate indexes can be downloaded this way. If you want to get a specific one, let me know and I'll see if I can help you out!"
   ]
  },
  {
   "cell_type": "markdown",
   "metadata": {},
   "source": [
    "## Composites"
   ]
  },
  {
   "cell_type": "markdown",
   "metadata": {},
   "source": [
    "For these simple examples, we are going to work with the good old temperature dataset again:"
   ]
  },
  {
   "cell_type": "code",
   "execution_count": null,
   "metadata": {},
   "outputs": [],
   "source": [
    "ds = xr.open_dataset('../data/ERA5_LowRes_Monthly_t2m.nc')"
   ]
  },
  {
   "cell_type": "markdown",
   "metadata": {},
   "source": [
    "### Seasonal averages and time series"
   ]
  },
  {
   "cell_type": "markdown",
   "metadata": {},
   "source": [
    "As you can remember, groupby is a nice way to compute monthly averages for example:"
   ]
  },
  {
   "cell_type": "code",
   "execution_count": null,
   "metadata": {},
   "outputs": [],
   "source": [
    "t2_ma = ds.t2m.load().groupby('time.month').mean(dim='time')"
   ]
  },
  {
   "cell_type": "markdown",
   "metadata": {},
   "source": [
    "Note that with groupby, you can also compute seasonal averages:"
   ]
  },
  {
   "cell_type": "code",
   "execution_count": null,
   "metadata": {},
   "outputs": [],
   "source": [
    "t2_sa = ds.t2m.load().groupby('time.season').mean(dim='time')"
   ]
  },
  {
   "cell_type": "markdown",
   "metadata": {},
   "source": [
    "**Q: explore the t2_sa variable. What is its time stamp?**"
   ]
  },
  {
   "cell_type": "markdown",
   "metadata": {},
   "source": [
    "During your data exploration projects, you might find it usefull to compute seasonal timeseries. This is a little bit trickier to do, but it's possible:"
   ]
  },
  {
   "cell_type": "code",
   "execution_count": null,
   "metadata": {},
   "outputs": [],
   "source": [
    "# This uses a series of tricks to come to the goal\n",
    "t2m_djf = ds.t2m.load().where(ds['time.season'] == 'DJF')\n",
    "t2m_djf = t2m_djf.rolling(min_periods=3, center=True, time=3).mean()\n",
    "t2m_djf = t2m_djf.groupby('time.year').mean('time')"
   ]
  },
  {
   "cell_type": "markdown",
   "metadata": {},
   "source": [
    "Note that there are less hacky ways to get to this result. But I like this method because the first year is marked as missing, and because the timestamp is how I'd like it to be.\n",
    "\n",
    "**Q: explore the data. why should the first year be missing, by the way?**"
   ]
  },
  {
   "cell_type": "code",
   "execution_count": null,
   "metadata": {},
   "outputs": [],
   "source": [
    "# your answer here"
   ]
  },
  {
   "cell_type": "markdown",
   "metadata": {},
   "source": [
    "### El Niño / La Niña anomaly composites"
   ]
  },
  {
   "cell_type": "markdown",
   "metadata": {},
   "source": [
    "**E: compute the anomaly of the winter 1998 (DFJ 1998) in comparison to the 1980-2018 average. Plot it. Repeat with 2016.**"
   ]
  },
  {
   "cell_type": "code",
   "execution_count": null,
   "metadata": {},
   "outputs": [],
   "source": [
    "# your answer here"
   ]
  },
  {
   "cell_type": "markdown",
   "metadata": {},
   "source": [
    "**E: by noting that ``.sel()`` also works with a list of years as argument, now compute the composite of all 10 Niño years during the ERA period. Then plot the anomaly of this composite to all other years. Repeat with La Niña composites.**"
   ]
  },
  {
   "cell_type": "code",
   "execution_count": null,
   "metadata": {},
   "outputs": [],
   "source": [
    "# List of moderates to very strong events according to https://ggweather.com/enso/oni.htm\n",
    "nino_yrs = [1983, 1998, 2016, 1988, 1992, 1987, 1995, 2003, 2010]\n",
    "nina_yrs = [1989, 1999, 2000, 2008, 2011, 1996, 2012]\n",
    "# now I'll compute the neutral years\n",
    "neutral_yrs = [yr for yr in np.arange(1980, 2019) if yr not in nino_yrs and yr not in nina_yrs]"
   ]
  },
  {
   "cell_type": "code",
   "execution_count": null,
   "metadata": {},
   "outputs": [],
   "source": [
    "# your answer here"
   ]
  },
  {
   "cell_type": "markdown",
   "metadata": {},
   "source": [
    "### Wind field composites, or the game of 7 differences"
   ]
  },
  {
   "cell_type": "markdown",
   "metadata": {},
   "source": [
    "It is also possible to plot anomalies of the wind field as quiver plots. Let's see how it goes:"
   ]
  },
  {
   "cell_type": "code",
   "execution_count": null,
   "metadata": {},
   "outputs": [],
   "source": [
    "# new data file, available on OLAT or on the scratch directory\n",
    "ds = xr.open_dataset('../data/ERA5_LowRes_Monthly_uvslp.nc')"
   ]
  },
  {
   "cell_type": "code",
   "execution_count": null,
   "metadata": {},
   "outputs": [],
   "source": [
    "# compute the seasonal averages of the wind\n",
    "u_djf = ds.u10.load().where(ds['time.season'] == 'DJF')\n",
    "u_djf = u_djf.rolling(min_periods=3, center=True, time=3).mean().groupby('time.year').mean('time')\n",
    "v_djf = ds.v10.load().where(ds['time.season'] == 'DJF')\n",
    "v_djf = v_djf.rolling(min_periods=3, center=True, time=3).mean().groupby('time.year').mean('time')"
   ]
  },
  {
   "cell_type": "code",
   "execution_count": null,
   "metadata": {},
   "outputs": [],
   "source": [
    "# Plot the total averages\n",
    "pu = u_djf.mean(dim='year')\n",
    "pv = v_djf.mean(dim='year')\n",
    "ax = plt.axes(projection=ccrs.PlateCarree(central_longitude=210))\n",
    "pu, pv = pu[::5,::5], pv[::5,::5] \n",
    "qv = ax.quiver(pu.longitude, pu.latitude, pu.values, pv.values, transform=ccrs.PlateCarree())\n",
    "ax.coastlines(color='grey'); \n",
    "ax.set_extent([280, 440, 20, -40], crs=ccrs.PlateCarree(central_longitude=210))\n",
    "plt.title('Average surface wind DJF 1980-2014')\n",
    "qk = plt.quiverkey(qv, 0.95, 1.03, 10, '10 m s$^{-1}$', labelpos='W')"
   ]
  },
  {
   "cell_type": "code",
   "execution_count": null,
   "metadata": {},
   "outputs": [],
   "source": [
    "# we now repeat the operation with Niño years only\n",
    "pu = u_djf.sel(year=nino_yrs).mean(dim='year')\n",
    "pv = v_djf.sel(year=nino_yrs).mean(dim='year')\n",
    "ax = plt.axes(projection=ccrs.PlateCarree(central_longitude=210))\n",
    "pu, pv = pu[::5,::5], pv[::5,::5] \n",
    "qv = ax.quiver(pu.longitude, pu.latitude, pu.values, pv.values, transform=ccrs.PlateCarree())\n",
    "ax.coastlines(color='grey'); \n",
    "ax.set_extent([280, 440, 20, -40], crs=ccrs.PlateCarree(central_longitude=210))\n",
    "plt.title('Average surface wind DJF Niño years')\n",
    "qk = plt.quiverkey(qv, 0.95, 1.03, 10, '10 m s$^{-1}$', labelpos='W')"
   ]
  },
  {
   "cell_type": "markdown",
   "metadata": {},
   "source": [
    "**Q: analyse the differences between the two plots. Hard to spot, right?**"
   ]
  },
  {
   "cell_type": "markdown",
   "metadata": {},
   "source": [
    "**E: now compute and plot the composite anomaly of the wind field during Niño years with respect to the non Niño years average. Plot it with quiver(). Analyse.**\n",
    "\n",
    "*Note that you'll have to change the legend of the plot!*"
   ]
  },
  {
   "cell_type": "code",
   "execution_count": null,
   "metadata": {},
   "outputs": [],
   "source": [
    "# your answer here"
   ]
  },
  {
   "cell_type": "markdown",
   "metadata": {},
   "source": [
    "**Anomalies of the wind field are not trivial to interpret! See for example the westerly anomalies of the wind at the equator: they match our conceptual model from the lecture quite well, but in reality the winds are still easterly on average, even during Niño years!**"
   ]
  },
  {
   "cell_type": "markdown",
   "metadata": {},
   "source": [
    "## One-point correlation maps "
   ]
  },
  {
   "cell_type": "markdown",
   "metadata": {},
   "source": [
    "With this simple example we seek to reproduce the one-point correlation map with SLP at Darwin, that we showed during the lecture:\n",
    "\n",
    "<img src=\"https://www.dropbox.com/s/b1njlzdwn5vr5zs/darwin_thaiti.png?dl=1\" width=\"60%\">"
   ]
  },
  {
   "cell_type": "code",
   "execution_count": null,
   "metadata": {},
   "outputs": [],
   "source": [
    "# new data file, available on OLAT or on the scratch directory\n",
    "ds = xr.open_dataset('../data/ERA5_LowRes_Monthly_uvslp.nc')"
   ]
  },
  {
   "cell_type": "code",
   "execution_count": null,
   "metadata": {},
   "outputs": [],
   "source": [
    "# compute the annual average\n",
    "slp = ds.msl.load().resample(time='AS').mean(dim='time') / 100.\n",
    "# take the SLP at Darwin\n",
    "slp_da = slp.sel(latitude=-12.45, longitude=130, method='nearest')"
   ]
  },
  {
   "cell_type": "code",
   "execution_count": null,
   "metadata": {},
   "outputs": [],
   "source": [
    "# make an empty array that we will fill\n",
    "cor_map = slp.isel(time=0) * 0.\n",
    "# loop over lats and lons\n",
    "for j in np.arange(len(ds.latitude)):\n",
    "    for i in np.arange(len(ds.longitude)):\n",
    "        # we use the .values attribute because this is much faster\n",
    "        cor_map.values[j, i] = np.corrcoef(slp.values[:, j, i], slp_da.values)[0, 1]"
   ]
  },
  {
   "cell_type": "code",
   "execution_count": null,
   "metadata": {},
   "outputs": [],
   "source": [
    "ax = plt.axes(projection=ccrs.Robinson(central_longitude=-180))\n",
    "cor_map.plot.contourf(ax=ax, transform=ccrs.PlateCarree(), levels=np.linspace(-0.8, 0.8, 9), \n",
    "                      extend='both', cbar_kwargs={'label':'Pearson $r$'});\n",
    "ax.coastlines(); ax.set_global();\n",
    "plt.title('Correlation coefficient of annual SLP with SLP at Darwin');"
   ]
  },
  {
   "cell_type": "code",
   "execution_count": null,
   "metadata": {},
   "outputs": [],
   "source": []
  }
 ],
 "metadata": {
  "hide_input": false,
  "kernelspec": {
   "display_name": "Python 3",
   "language": "python",
   "name": "python3"
  },
  "language_info": {
   "codemirror_mode": {
    "name": "ipython",
    "version": 3
   },
   "file_extension": ".py",
   "mimetype": "text/x-python",
   "name": "python",
   "nbconvert_exporter": "python",
   "pygments_lexer": "ipython3",
   "version": "3.8.5"
  },
  "latex_envs": {
   "LaTeX_envs_menu_present": true,
   "autoclose": false,
   "autocomplete": true,
   "bibliofile": "biblio.bib",
   "cite_by": "apalike",
   "current_citInitial": 1,
   "eqLabelWithNumbers": true,
   "eqNumInitial": 1,
   "hotkeys": {
    "equation": "Ctrl-E",
    "itemize": "Ctrl-I"
   },
   "labels_anchors": false,
   "latex_user_defs": false,
   "report_style_numbering": false,
   "user_envs_cfg": false
  },
  "nbTranslate": {
   "displayLangs": [
    "*"
   ],
   "hotkey": "alt-t",
   "langInMainMenu": true,
   "sourceLang": "en",
   "targetLang": "fr",
   "useGoogleTranslate": true
  },
  "toc": {
   "base_numbering": 1,
   "nav_menu": {},
   "number_sections": false,
   "sideBar": true,
   "skip_h1_title": true,
   "title_cell": "Table of Contents",
   "title_sidebar": "Contents",
   "toc_cell": false,
   "toc_position": {},
   "toc_section_display": true,
   "toc_window_display": false
  }
 },
 "nbformat": 4,
 "nbformat_minor": 4
}
