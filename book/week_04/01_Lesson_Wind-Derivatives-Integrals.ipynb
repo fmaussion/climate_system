{
 "cells": [
  {
   "cell_type": "markdown",
   "metadata": {},
   "source": [
    "# Lesson: wind flow, 4D data, numerical integrals"
   ]
  },
  {
   "cell_type": "markdown",
   "metadata": {},
   "source": [
    "With this lesson, we are going to learn how to display wind field data (as vectors and as streamlines). We are also going to add a fourth dimension to our data cubes (the vertical dimension). Last but not least, we are going to learn that computing numerical derivatives and integrals in python is not that complicated, after all."
   ]
  },
  {
   "cell_type": "code",
   "execution_count": null,
   "metadata": {},
   "outputs": [],
   "source": [
    "# Import the tools we are going to need today:\n",
    "import matplotlib.pyplot as plt  # plotting library\n",
    "import numpy as np  # numerical library\n",
    "import xarray as xr  # netCDF library\n",
    "import cartopy  # Map projections libary\n",
    "import cartopy.crs as ccrs  # Projections list\n",
    "# Some defaults:\n",
    "plt.rcParams['figure.figsize'] = (12, 5)  # Default plot size"
   ]
  },
  {
   "cell_type": "markdown",
   "metadata": {},
   "source": [
    "## Data sources "
   ]
  },
  {
   "cell_type": "markdown",
   "metadata": {},
   "source": [
    "We are going to use the `ERA5_LowRes_MonthlyAvg_uvslp.nc` and `ERA5_LowRes_MonthlyAvg_4D_zuvw.nc` files that you can download from:\n",
    "- [ERA5_LowRes_MonthlyAvg_uvslp.nc](https://cluster.klima.uni-bremen.de/~fmaussion/teaching/climate/ERA5_LowRes_MonthlyAvg_uvslp.nc)\n",
    "- [ERA5_LowRes_MonthlyAvg_4D_zuvw.nc](https://cluster.klima.uni-bremen.de/~fmaussion/teaching/climate/ERA5_LowRes_MonthlyAvg_4D_zuvw.nc)"
   ]
  },
  {
   "cell_type": "markdown",
   "metadata": {},
   "source": [
    "## Read the data"
   ]
  },
  {
   "cell_type": "code",
   "execution_count": null,
   "metadata": {},
   "outputs": [],
   "source": [
    "ds = xr.open_dataset('../data/ERA5_LowRes_MonthlyAvg_uvslp.nc')"
   ]
  },
  {
   "cell_type": "markdown",
   "metadata": {},
   "source": [
    "**E: explore the file. Time coordinates? Variables? Units?**"
   ]
  },
  {
   "cell_type": "code",
   "execution_count": null,
   "metadata": {},
   "outputs": [],
   "source": [
    "# your answer here"
   ]
  },
  {
   "cell_type": "markdown",
   "metadata": {},
   "source": [
    "## A glimpse in the internals of xarray "
   ]
  },
  {
   "cell_type": "markdown",
   "metadata": {},
   "source": [
    "Let's select a month out of our data and print our variable:"
   ]
  },
  {
   "cell_type": "code",
   "execution_count": null,
   "metadata": {},
   "outputs": [],
   "source": [
    "u = ds.u10.sel(month=1)\n",
    "u"
   ]
  },
  {
   "cell_type": "markdown",
   "metadata": {},
   "source": [
    "On the second line, you should see something similar to:\n",
    "\n",
    "    [115680 values with dtype=float32]\n",
    "    \n",
    "As we are going to see, this is a \"trick\" that xarray uses to hide an important information from us: xarray didn't actually *read* the data! However, as we have seen, xarray is very capable to plot this data or do mathematical operations on them. \n",
    "\n",
    "So why didn't xarray read the data yet? \n",
    "\n",
    "Because it *knows* that we don't need it right away. This feature is called [lazy evaluation](https://en.wikipedia.org/wiki/Lazy_evaluation) in computer sciences. It is extremely useful, as it spares time and memory by loading the data only when really needed."
   ]
  },
  {
   "cell_type": "markdown",
   "metadata": {},
   "source": [
    "In some cases this feature can be undesirable. For example: when reading the data is quite slow. If you are working with data on remote directories, or if the data you are using is compressed (this is not the case here but some files do). Reading remote or compressed data takes time, and the operations we are going to make below make this even slower.\n",
    "\n",
    "This is why I'll sometimes recommend to do the following:"
   ]
  },
  {
   "cell_type": "code",
   "execution_count": null,
   "metadata": {},
   "outputs": [],
   "source": [
    "u = ds.u10.sel(month=1).load()\n",
    "u"
   ]
  },
  {
   "cell_type": "markdown",
   "metadata": {},
   "source": [
    "**Q: compare the printed information with the one we've seen above. What has changed?**\n",
    "\n",
    "Maybe it is a good moment to remind you that there are tools here to help you understand what certain commands do:"
   ]
  },
  {
   "cell_type": "code",
   "execution_count": null,
   "metadata": {},
   "outputs": [],
   "source": [
    "ds.u10.load?"
   ]
  },
  {
   "cell_type": "markdown",
   "metadata": {},
   "source": [
    "## Plotting wind fields"
   ]
  },
  {
   "cell_type": "markdown",
   "metadata": {},
   "source": [
    "We are now reading the u and v windfields at the 10 m level for the month of January:"
   ]
  },
  {
   "cell_type": "code",
   "execution_count": null,
   "metadata": {},
   "outputs": [],
   "source": [
    "u = ds.u10.sel(month=1).load()\n",
    "v = ds.v10.sel(month=1).load()"
   ]
  },
  {
   "cell_type": "markdown",
   "metadata": {},
   "source": [
    "### Quiver plots"
   ]
  },
  {
   "cell_type": "markdown",
   "metadata": {},
   "source": [
    "One traditional way to plot the wind data is as vector arrows. We can use a function called [quiver()](http://matplotlib.org/api/pyplot_api.html?highlight=quiver#matplotlib.pyplot.quiver) for that:"
   ]
  },
  {
   "cell_type": "code",
   "execution_count": null,
   "metadata": {},
   "outputs": [],
   "source": [
    "ax = plt.axes(projection=ccrs.PlateCarree())  # note that I changed the map projection\n",
    "pu, pv = u[::9,::9], v[::9,::9]  # we will discuss what this line does in the cells below\n",
    "qv = ax.quiver(pu.longitude, pu.latitude, pu, pv, transform=ccrs.PlateCarree())\n",
    "ax.coastlines(color='grey');"
   ]
  },
  {
   "cell_type": "markdown",
   "metadata": {},
   "source": [
    "Note the new syntax in the line ``pu, pv = u[::9,::9], v[::9,::9]``. Let's explain it in detail. the ``::9`` is the Numpy way to index each 9th element of an array. It is called [slicing](http://docs.scipy.org/doc/numpy-1.10.0/reference/arrays.indexing.html#basic-slicing-and-indexing) in the numpy jargon. Let's try slicing on a simpler array:"
   ]
  },
  {
   "cell_type": "code",
   "execution_count": null,
   "metadata": {},
   "outputs": [],
   "source": [
    "a = np.arange(11)\n",
    "print(a)"
   ]
  },
  {
   "cell_type": "markdown",
   "metadata": {},
   "source": [
    "**E: try and explain the following commands:**\n",
    "- a[:]\n",
    "- a[2:]\n",
    "- a[:-1]\n",
    "- a[2:5]\n",
    "- a[::-1]\n",
    "- a[::2]\n",
    "- a[::-2]"
   ]
  },
  {
   "cell_type": "code",
   "execution_count": null,
   "metadata": {},
   "outputs": [],
   "source": [
    "# your answer here"
   ]
  },
  {
   "cell_type": "markdown",
   "metadata": {},
   "source": [
    "OK, so that was slincing in one dimensions. Slicing also works in N-dimensions. For example:"
   ]
  },
  {
   "cell_type": "code",
   "execution_count": null,
   "metadata": {},
   "outputs": [],
   "source": [
    "a = np.arange(4*5).reshape((4, 5))\n",
    "print(a)"
   ]
  },
  {
   "cell_type": "markdown",
   "metadata": {},
   "source": [
    "**E: try and explain the following commands:**\n",
    "- a[:, ::-1]\n",
    "- a[::2, ::2]\n",
    "- a[::2, ::3]"
   ]
  },
  {
   "cell_type": "code",
   "execution_count": null,
   "metadata": {},
   "outputs": [],
   "source": [
    "# your answer here"
   ]
  },
  {
   "cell_type": "markdown",
   "metadata": {},
   "source": [
    "OK, that was slicing in two dimensions, so we now better understand what ``u[::9,::9]`` means. But what was about that comma in between? This is simply what people call \"syntactic sugar\", a nice and easy way to write one line in two: "
   ]
  },
  {
   "cell_type": "code",
   "execution_count": null,
   "metadata": {},
   "outputs": [],
   "source": [
    "a, b = 12, 'Hello'\n",
    "print(a)\n",
    "print(b)"
   ]
  },
  {
   "cell_type": "markdown",
   "metadata": {},
   "source": [
    "This kind of shortcuts should be used only if:\n",
    "- the lines of code are easy\n",
    "- the two variables are somehow related (for example u and v winds)\n",
    "\n",
    "If you abuse this kind of \"one-liners\", people reading your code will hate you. "
   ]
  },
  {
   "cell_type": "markdown",
   "metadata": {},
   "source": [
    "**E: reproduce the quiver plot but with other slices. For example 5 or 15. What happens if you do no slicing at all?**"
   ]
  },
  {
   "cell_type": "code",
   "execution_count": null,
   "metadata": {},
   "outputs": [],
   "source": [
    "# your answer here"
   ]
  },
  {
   "cell_type": "markdown",
   "metadata": {},
   "source": [
    "**E: compute the wind speed out of u and v. Plot the wind speed as a shaded color plot (as we did for temperature and precipitation) and plot the wind arrows on top of it.**"
   ]
  },
  {
   "cell_type": "code",
   "execution_count": null,
   "metadata": {},
   "outputs": [],
   "source": [
    "# your answer here"
   ]
  },
  {
   "cell_type": "markdown",
   "metadata": {},
   "source": [
    "### Streamlines "
   ]
  },
  {
   "cell_type": "markdown",
   "metadata": {},
   "source": [
    "Another way to plot wind data are the so called [streamlines](http://matplotlib.org/api/pyplot_api.html?highlight=streamplot#matplotlib.pyplot.streamplot):"
   ]
  },
  {
   "cell_type": "code",
   "execution_count": null,
   "metadata": {},
   "outputs": [],
   "source": [
    "ax = plt.axes(projection=ccrs.PlateCarree())\n",
    "ax.streamplot(u.longitude, u.latitude, u.values, v.values, transform=ccrs.PlateCarree(), density=4)\n",
    "ax.coastlines(color='grey');"
   ]
  },
  {
   "cell_type": "markdown",
   "metadata": {},
   "source": [
    "*Note: if this is too slow for your taste, you can slice your data like we did for the quiver plot, this will produce the plot faster*"
   ]
  },
  {
   "cell_type": "markdown",
   "metadata": {},
   "source": [
    "A problem with streamlines is that they provide no information about the strength of the flow. It is possible to display this information with colors: "
   ]
  },
  {
   "cell_type": "code",
   "execution_count": null,
   "metadata": {},
   "outputs": [],
   "source": [
    "ws = (u**2 + v**2)**0.5\n",
    "ax = plt.axes(projection=ccrs.PlateCarree())\n",
    "strm = ax.streamplot(u.longitude, u.latitude, u.values, v.values, transform=ccrs.PlateCarree(),\n",
    "                     density=4, color=ws.values, cmap=plt.get_cmap('cool'))\n",
    "plt.colorbar(strm.lines)\n",
    "ax.coastlines(color='grey'); ax.gridlines(draw_labels=True);  # what is this line doing?"
   ]
  },
  {
   "cell_type": "markdown",
   "metadata": {},
   "source": [
    "**E: plot the wind streamlines for the month of july. Discuss the differences in the flow. Where it the ITCZ located for both months? Are there other large differences?**"
   ]
  },
  {
   "cell_type": "code",
   "execution_count": null,
   "metadata": {},
   "outputs": [],
   "source": [
    "# your answer here"
   ]
  },
  {
   "cell_type": "markdown",
   "metadata": {},
   "source": [
    "## Upper atmosphere data  "
   ]
  },
  {
   "cell_type": "markdown",
   "metadata": {},
   "source": [
    "We are now going to use the `ERA-Int-MonthlyAvg-4D-UVWZ.nc` file:"
   ]
  },
  {
   "cell_type": "code",
   "execution_count": null,
   "metadata": {},
   "outputs": [],
   "source": [
    "ds = xr.open_dataset('../data/ERA5_LowRes_MonthlyAvg_4D_zuvw.nc')\n",
    "ds"
   ]
  },
  {
   "cell_type": "code",
   "execution_count": null,
   "metadata": {},
   "outputs": [],
   "source": [
    "ds.level"
   ]
  },
  {
   "cell_type": "markdown",
   "metadata": {},
   "source": [
    "**E: explore the file. Time coordinates? Variables? Units?**"
   ]
  },
  {
   "cell_type": "markdown",
   "metadata": {},
   "source": [
    "We are going to analyse the data for the upper troposphere atmospheric circulation in exercise 08. In today's lesson, we are just going to note that it can be really easy to make zonal plots of the vertical structure of the atmopshere:"
   ]
  },
  {
   "cell_type": "code",
   "execution_count": null,
   "metadata": {},
   "outputs": [],
   "source": [
    "u_allz = ds.u.sel(month=1).load()\n",
    "u_allz = u_allz.mean(dim='longitude')"
   ]
  },
  {
   "cell_type": "code",
   "execution_count": null,
   "metadata": {},
   "outputs": [],
   "source": [
    "u_allz.plot();"
   ]
  },
  {
   "cell_type": "markdown",
   "metadata": {},
   "source": [
    "Ugh. This is not so easy as we thought. Here's how to make it a bit better:"
   ]
  },
  {
   "cell_type": "code",
   "execution_count": null,
   "metadata": {},
   "outputs": [],
   "source": [
    "u_allz.plot.contourf(levels=np.linspace(-45, 45, 19), cbar_kwargs={'label':'U-wind (m s-1)'});\n",
    "plt.ylim([1000, 50]);\n",
    "plt.ylabel('Pressure (hPa)');"
   ]
  },
  {
   "cell_type": "markdown",
   "metadata": {},
   "source": [
    "This representation of the atmosphere (with linear pressure coordinates) is often used and looks familiar. However, to represent more acurately the real altitude of the winds, a logarithmic scale might be better:"
   ]
  },
  {
   "cell_type": "code",
   "execution_count": null,
   "metadata": {},
   "outputs": [],
   "source": [
    "u_allz.plot.contourf(levels=np.linspace(-45, 45, 19), cbar_kwargs={'label':'U-wind (m s-1)'});\n",
    "# u_allz.plot();\n",
    "plt.ylim([1000, 50])\n",
    "plt.yscale('log')\n",
    "plt.ylabel('Pressure (hPa)');"
   ]
  },
  {
   "cell_type": "markdown",
   "metadata": {},
   "source": [
    "With a logarithmic scale the importance of the westerly winds for most parts of the atmosphere is clearly visible."
   ]
  },
  {
   "cell_type": "markdown",
   "metadata": {},
   "source": [
    "## Numerical derivatives of gridded data: geostrophic winds"
   ]
  },
  {
   "cell_type": "markdown",
   "metadata": {},
   "source": [
    "In this lesson we are going to learn how to compute the derivative of a meteorological field. One of the easiest formulas available to us is the geostrophic wind equation. We will compute geostrophic winds out of the geopotential field."
   ]
  },
  {
   "cell_type": "markdown",
   "metadata": {},
   "source": [
    "The geostrophic equation can be expressed in pressure coordinates as:\n",
    "\n",
    "$$u_g = -\\frac{g}{f} \\frac{\\partial z}{\\partial y}$$\n",
    "\n",
    "$$v_g = \\frac{g}{f} \\frac{\\partial z}{\\partial x}$$\n",
    "\n",
    "with $u_g$, $v_g$ the geostrophic wind components and z the geopotential (in m).\n"
   ]
  },
  {
   "cell_type": "markdown",
   "metadata": {},
   "source": [
    "First we need to compute the corolis parameter $f = 2  \\Omega \\sin \\varphi$:"
   ]
  },
  {
   "cell_type": "code",
   "execution_count": null,
   "metadata": {},
   "outputs": [],
   "source": [
    "f = 2. * 7.292115e-5 * np.sin(np.deg2rad(u.latitude))"
   ]
  },
  {
   "cell_type": "markdown",
   "metadata": {},
   "source": [
    "To avoid some mathematical singularities we are going to mask out the areas of the globe where coriolis becomes too close to zero: "
   ]
  },
  {
   "cell_type": "code",
   "execution_count": null,
   "metadata": {},
   "outputs": [],
   "source": [
    "f = f.where((np.abs(u.latitude) > 5) & (np.abs(u.latitude) < 85))"
   ]
  },
  {
   "cell_type": "markdown",
   "metadata": {},
   "source": [
    "### Gradient of a 2d field"
   ]
  },
  {
   "cell_type": "markdown",
   "metadata": {},
   "source": [
    "Computing the [gradient of discrete data](https://en.wikipedia.org/wiki/Finite_difference_method) is something computers know how to do. For the details of the algorithm you can refer to other courses in numerical methods. Here we are going to use the function [gradient()](https://numpy.org/doc/stable/reference/generated/numpy.gradient.html) provided by numpy:"
   ]
  },
  {
   "cell_type": "code",
   "execution_count": null,
   "metadata": {},
   "outputs": [],
   "source": [
    "g = 9.81\n",
    "z = ds.z.sel(month=1, level=500).load() / g"
   ]
  },
  {
   "cell_type": "code",
   "execution_count": null,
   "metadata": {},
   "outputs": [],
   "source": [
    "grad_y, grad_x = np.gradient(z, -np.deg2rad(.75), np.deg2rad(.75))"
   ]
  },
  {
   "cell_type": "markdown",
   "metadata": {},
   "source": [
    "**E: What is z? Plot it on a map.**"
   ]
  },
  {
   "cell_type": "code",
   "execution_count": null,
   "metadata": {},
   "outputs": [],
   "source": [
    "# your answer here"
   ]
  },
  {
   "cell_type": "markdown",
   "metadata": {},
   "source": [
    "**Q: read the documentation of the np.gradient function. Explain why I needed to provide -np.deg2rad(.75) and np.deg2rad(.75) as arguments. What is the shape of grad_y and grad_x? Why are they returned by the function in that order?**"
   ]
  },
  {
   "cell_type": "markdown",
   "metadata": {},
   "source": [
    "Because np.gradient() is not giving us `xr.DataArray` variables back. We are going to convert them back to xarray objects: "
   ]
  },
  {
   "cell_type": "code",
   "execution_count": null,
   "metadata": {},
   "outputs": [],
   "source": [
    "grad_x = z * 0 + grad_x\n",
    "grad_y = z * 0 + grad_y\n",
    "grad_x.name = 'Gradient of z along x'\n",
    "grad_y.name = 'Gradient of z along y'"
   ]
  },
  {
   "cell_type": "markdown",
   "metadata": {},
   "source": [
    "There are other ways to do what we just did above, but this is easy to remember.\n",
    "\n",
    "**Q: Now plot the variables grad_x and grad_y**"
   ]
  },
  {
   "cell_type": "code",
   "execution_count": null,
   "metadata": {},
   "outputs": [],
   "source": [
    "# Your answer here"
   ]
  },
  {
   "cell_type": "markdown",
   "metadata": {},
   "source": [
    "Before moving foreward I have to draw your attention towards a certain detail. The equations of geostrophic winds described above are provided in *cartesian* (x, y) coordinates. We just computed the gradient in *spherical* (lon, lat) coordinates. Once again, we have to remember that the Earth is not flat and take this effect into account:\n",
    "\n",
    "$$\\frac{\\partial}{\\partial x} = \\frac{1}{R \\cos \\varphi}\\frac{\\partial}{\\partial\\lambda}$$\n",
    "\n",
    "$$\\frac{\\partial}{\\partial y} = \\frac{1}{R}\\frac{\\partial}{\\partial\\varphi}$$\n",
    "\n",
    "with $\\lambda$, $\\varphi$ the longitude and latitude and R the Earth' radius. We apply the formulas and define a factor for the spherical derivatives:"
   ]
  },
  {
   "cell_type": "code",
   "execution_count": null,
   "metadata": {},
   "outputs": [],
   "source": [
    "dx = 1 / (6371000 * np.cos(np.deg2rad(z.latitude)))\n",
    "dy = 1 / (6371000)"
   ]
  },
  {
   "cell_type": "code",
   "execution_count": null,
   "metadata": {},
   "outputs": [],
   "source": [
    "ug = - g / f * dy * grad_y\n",
    "vg = g / f * dx * grad_x"
   ]
  },
  {
   "cell_type": "code",
   "execution_count": null,
   "metadata": {},
   "outputs": [],
   "source": [
    "wsg = (ug**2 + vg**2)**0.5\n",
    "ax = plt.axes(projection=ccrs.PlateCarree())\n",
    "strm = ax.streamplot(ug.longitude, ug.latitude, ug.values, vg.values, transform=ccrs.PlateCarree(),\n",
    "                     density=4, color=wsg.values, cmap=plt.get_cmap('cool'))\n",
    "plt.colorbar(strm.lines)\n",
    "ax.coastlines(color='grey'); ax.gridlines(draw_labels=True);"
   ]
  },
  {
   "cell_type": "markdown",
   "metadata": {},
   "source": [
    "## Numerical integrals of gridded data: stream functions"
   ]
  },
  {
   "cell_type": "markdown",
   "metadata": {},
   "source": [
    "### Vertical velocity"
   ]
  },
  {
   "cell_type": "markdown",
   "metadata": {},
   "source": [
    "**E: compute the annual average of the vertical component of the wind. Plot the 500 hPa level on a map.**\n",
    "\n",
    "**Q: discuss the features of the plot. Order of magnitude of w in comparison to u and v? Where are the largest velocities? Look at the sign of w in the tropics and the subtropics. Does it make sense?**"
   ]
  },
  {
   "cell_type": "code",
   "execution_count": null,
   "metadata": {},
   "outputs": [],
   "source": [
    "# your answer here"
   ]
  },
  {
   "cell_type": "markdown",
   "metadata": {},
   "source": [
    "**E: multiply w by -1 to make positive velocities point upwards. Plot the 850 hPa level on a map with the vmin=-0.2 and vmax=0.2 keywords. Some features are expected such as the ITCZ, but some are strange. What can you say about the w field in general?**"
   ]
  },
  {
   "cell_type": "code",
   "execution_count": null,
   "metadata": {},
   "outputs": [],
   "source": [
    "# your answer here"
   ]
  },
  {
   "cell_type": "markdown",
   "metadata": {},
   "source": [
    "### Zonal averages of the meridional and vertical wind components"
   ]
  },
  {
   "cell_type": "markdown",
   "metadata": {},
   "source": [
    "Let's compute the temporal-zonal averages of the meridional and vertical components of the wind $\\left[ \\overline{v} \\right]$ and  $\\left[ \\overline{w} \\right]$:"
   ]
  },
  {
   "cell_type": "code",
   "execution_count": null,
   "metadata": {},
   "outputs": [],
   "source": [
    "v = ds.v.mean(dim=['month', 'longitude'])\n",
    "w = - ds.w.mean(dim=['month', 'longitude'])"
   ]
  },
  {
   "cell_type": "markdown",
   "metadata": {},
   "source": [
    "**E: make a countour plot (.plot.contourf()) of v and w. Be sure that the vertical levels showing upwards (plt.ylim([1000, 50])). Select the levels appropriatly, for example np.linspace(-2, 2, 21) for v and np.linspace(-0.1, 0.1, 21) for w.**\n",
    "\n",
    "**Q: discuss the plots. Do they correspond to your expectations from the lecture?**"
   ]
  },
  {
   "cell_type": "code",
   "execution_count": null,
   "metadata": {},
   "outputs": [],
   "source": [
    "# your answer here"
   ]
  },
  {
   "cell_type": "markdown",
   "metadata": {},
   "source": [
    "Note that u and w are the components of a wind vector in the meridional plane. As such they could be represented by arrows:"
   ]
  },
  {
   "cell_type": "code",
   "execution_count": null,
   "metadata": {},
   "outputs": [],
   "source": [
    "pv, pw = v[:, ::7], w[:, ::7]\n",
    "qv = plt.quiver(pv.latitude, pv.level, pv.values, pw.values)\n",
    "plt.ylim([1000, 50]);\n",
    "plt.xlim([-90, 90]);"
   ]
  },
  {
   "cell_type": "markdown",
   "metadata": {},
   "source": [
    "**Q: discuss the quiver plot above. Is it easy to interpret? For which reason?**\n",
    "\n",
    "**E: define a new variable w_mult wich is w multiplied by 20. Make the quiver plot again. Better?**"
   ]
  },
  {
   "cell_type": "code",
   "execution_count": null,
   "metadata": {},
   "outputs": [],
   "source": [
    "# your answer here"
   ]
  },
  {
   "cell_type": "markdown",
   "metadata": {},
   "source": [
    "### Stream function and Hadley circulation"
   ]
  },
  {
   "cell_type": "markdown",
   "metadata": {},
   "source": [
    "In the meridional plane (since we have averaged over all longitudes), the continuity equation reduces to:\n",
    "    \n",
    "$$ \\nabla \\cdot \\left[\\mathbf{u} \\right] = \\frac{\\partial \\left[ \\overline{v} \\right]}{\\partial y} + \\frac{\\partial \\left[ \\overline{w} \\right]}{\\partial p} = 0 $$\n",
    "\n",
    "Where the brackets denote the zonal average. In spherical pressure coordinates, the same continuity equation writes:\n",
    "\n",
    "$$ \\frac{1}{R \\cos \\varphi} \\frac{\\partial \\left( \\left[ \\overline{v} \\right] \\cos \\varphi \\right)}{\\partial \\varphi} + \\frac{\\partial \\left[ \\overline{w} \\right]}{\\partial p} = 0 $$\n",
    "\n",
    "This equation is very useful since any convergence in the horizontal meridional flow must be balanced by divergence in the vertical flow. In other words: only one variable ($ \\left[ \\overline{v} \\right]$ or $ \\left[ \\overline{w} \\right]$) is needed to define the flow in the plane. With a little bit of mathematical manipulation, a [stream function](https://en.wikipedia.org/wiki/Stream_function) can be used for this purpose.\n",
    "\n",
    "Let's define the funtion $\\Psi$ such that the continuity equation above is satisfied:\n",
    "\n",
    "$$ \\left[ \\overline{v} \\right] = \\frac{g}{2 \\pi R \\cos \\varphi} \\frac{\\partial \\Psi}{\\partial p}$$\n",
    "\n",
    "and\n",
    "\n",
    "$$ \\left[ \\overline{w} \\right] = - \\frac{g}{2 \\pi R^2 \\cos \\varphi} \\frac{\\partial \\Psi}{\\partial \\varphi}$$\n",
    "\n",
    "(the normalisation by $g / 2 \\pi $ is convention, but the relative minus sign is required. $g$ is added so that $\\Psi$ is of unit kg s$^{-1}$, a mass flux).\n",
    "\n",
    "So $\\Psi$ could be defined from either $w$ or $v$. Since $w$ in the atmosphere is very small, noisy, and subject to observational errors we will use $ \\left[ \\overline{v} \\right]$ to compute it. Integrating the equation above from the tropopause (where $\\Psi$ is assumed to be zero) *down* to some level $p$ gives:\n",
    "\n",
    "$$ \\Psi (\\varphi, p) = \\frac{2 \\pi R \\cos \\varphi}{g} \\int_{p_{trop}}^{p} \\left[ \\overline{v(\\varphi, p)} \\right] dp $$\n",
    "\n",
    "The integral above can be computed numerically from our $\\left[ \\overline{v} \\right]$ field. $\\Psi (\\varphi, p) $ is a mass transport (kg s$^{-1}$) equal to the rate at which mass is transported meridionally in the region between the level $p$ and the tropopause by the zonal mean circulation."
   ]
  },
  {
   "cell_type": "markdown",
   "metadata": {},
   "source": [
    "### Back to python: numerical integration"
   ]
  },
  {
   "cell_type": "markdown",
   "metadata": {},
   "source": [
    "How to integrate the geophysical field $\\left[\\overline{v} \\right]$? Like derivation, numerical integration is a thing that computers know how to do. Here again we are going to use a [function](https://docs.scipy.org/doc/scipy/reference/generated/scipy.integrate.cumtrapz.html) for it. You'll learn in more detail how the numerical integration works in the numerics course. The purpose of our exercises is to \"demystify\" a litte bit these operations which can be quite simple to use in python.\n",
    "\n",
    "**Q: read the documentation of the function cumtrapz().** Interested students can read about the trapezoidal rule in [wikipedia](https://en.wikipedia.org/wiki/Trapezoidal_rule) for example."
   ]
  },
  {
   "cell_type": "code",
   "execution_count": null,
   "metadata": {},
   "outputs": [],
   "source": [
    "from scipy.integrate import cumtrapz"
   ]
  },
  {
   "cell_type": "code",
   "execution_count": null,
   "metadata": {},
   "outputs": [],
   "source": [
    "zcoords = v.level * 100  # note the \"* 100\" to convert hPa into SI units!\n",
    "integral = cumtrapz(v, zcoords, axis=0, initial=0)  # are we clear on what this function does?\n",
    "psi = v*0. + integral  # store the data in a new xarray DataArray"
   ]
  },
  {
   "cell_type": "markdown",
   "metadata": {},
   "source": [
    "This above might be a bit complicated to understand. Don't hesitate to ask me for more details!\n",
    "\n",
    "Finally, we need to compute the factor $ \\frac{2 \\pi R \\cos \\varphi}{g} $ and multiply it to our integral:"
   ]
  },
  {
   "cell_type": "code",
   "execution_count": null,
   "metadata": {},
   "outputs": [],
   "source": [
    "fac = 2 * np.pi * 6371000 * np.cos(np.deg2rad(v.latitude)) / 9.81\n",
    "psi = psi * fac\n",
    "# Convert to Sverdrups:\n",
    "psi = psi / 1e9"
   ]
  },
  {
   "cell_type": "markdown",
   "metadata": {},
   "source": [
    "All done! Let's plot the result:"
   ]
  },
  {
   "cell_type": "code",
   "execution_count": null,
   "metadata": {},
   "outputs": [],
   "source": [
    "psi.plot.contourf(levels=np.linspace(-100, 100, 21), extend='both', cbar_kwargs={'label':'10$^9$ kg s$^{-1}$'})\n",
    "plt.title('Stream function of the meridional overturning circulation -- annual average')\n",
    "plt.ylim([1000, 50]);"
   ]
  },
  {
   "cell_type": "markdown",
   "metadata": {},
   "source": [
    "Remember that the stream function plotted above is a function representation for a 2D flow. The w component of the wind is propotional to $- \\frac{\\partial \\Psi}{\\partial \\varphi}$, the v component is propotional to $\\frac{\\partial \\Psi}{\\partial p}$\n",
    "\n",
    "**Q: describe the meridional overturning circulation represented above. Name the cells you recognize and describe their circulation. Compare the circulation as described by $\\Psi$ to the v and w plots you made in section \"Zonal averages of the meridional and vertical wind components\" above.**"
   ]
  },
  {
   "cell_type": "markdown",
   "metadata": {},
   "source": [
    "## What's next? "
   ]
  },
  {
   "cell_type": "markdown",
   "metadata": {},
   "source": [
    "You can go directly to this week's [assignment](02_Assignment_GeneralCirculation)!"
   ]
  }
 ],
 "metadata": {
  "hide_input": false,
  "kernelspec": {
   "display_name": "Python 3",
   "language": "python",
   "name": "python3"
  },
  "language_info": {
   "codemirror_mode": {
    "name": "ipython",
    "version": 3
   },
   "file_extension": ".py",
   "mimetype": "text/x-python",
   "name": "python",
   "nbconvert_exporter": "python",
   "pygments_lexer": "ipython3",
   "version": "3.8.5"
  },
  "latex_envs": {
   "LaTeX_envs_menu_present": true,
   "autoclose": false,
   "autocomplete": true,
   "bibliofile": "biblio.bib",
   "cite_by": "apalike",
   "current_citInitial": 1,
   "eqLabelWithNumbers": true,
   "eqNumInitial": 1,
   "hotkeys": {
    "equation": "Ctrl-E",
    "itemize": "Ctrl-I"
   },
   "labels_anchors": false,
   "latex_user_defs": false,
   "report_style_numbering": false,
   "user_envs_cfg": false
  },
  "nbTranslate": {
   "displayLangs": [
    "*"
   ],
   "hotkey": "alt-t",
   "langInMainMenu": true,
   "sourceLang": "en",
   "targetLang": "fr",
   "useGoogleTranslate": true
  },
  "toc": {
   "base_numbering": 1,
   "nav_menu": {},
   "number_sections": false,
   "sideBar": true,
   "skip_h1_title": true,
   "title_cell": "Table of Contents",
   "title_sidebar": "Contents",
   "toc_cell": false,
   "toc_position": {},
   "toc_section_display": true,
   "toc_window_display": false
  }
 },
 "nbformat": 4,
 "nbformat_minor": 4
}
