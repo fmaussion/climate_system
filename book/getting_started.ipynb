{
 "cells": [
  {
   "cell_type": "markdown",
   "metadata": {},
   "source": [
    "# Getting started with Jupyter Notebooks"
   ]
  },
  {
   "cell_type": "markdown",
   "metadata": {},
   "source": [
    "Jupyter Notebooks are a relatively recent addition to the scientific python ecosystem. They were previously called \"ipython notebooks\" (you might find them under this name in old forums or websites sometimes). The advantage of jupyter notebooks over traditional code scripts in text files is that they can include text, code, and plots in the same document. Notebooks are a fantastic tool to explore data or models and to communicate about science. \n",
    "\n",
    "Notebooks are an ideal playground for learning python and write your homework, without having to jump between several documents! \n",
    "We will use notebooks for the entire class. **In fact, this webpage (and all others in this book) are written in Jupyter Notebooks.**"
   ]
  },
  {
   "cell_type": "markdown",
   "metadata": {},
   "source": [
    "## Running Notebooks"
   ]
  },
  {
   "cell_type": "markdown",
   "metadata": {},
   "source": [
    "### Testing notebooks online"
   ]
  },
  {
   "cell_type": "markdown",
   "metadata": {},
   "source": [
    "The simplest way to try using a notebook is to use the \"Launch Binder\" button on the top of each page. This will open an interactive session in your browser. "
   ]
  },
  {
   "cell_type": "markdown",
   "metadata": {},
   "source": [
    "```{warning}\n",
    "Interactive sessions on MyBinder are **temporary**. After 10 mins of inactivity or after closing the tab, you won't be able to recover your changes.\n",
    "\n",
    "For today's tutorial, this is perfect. For the exercises I rather recommend to use your own laptop.\n",
    "```"
   ]
  },
  {
   "cell_type": "markdown",
   "metadata": {},
   "source": [
    "### Installing Jupyter on your computer"
   ]
  },
  {
   "cell_type": "markdown",
   "metadata": {},
   "source": [
    "If you are not following my programming class, [follow these instructions to install python](https://fabienmaussion.info/scientific_programming/week_01/02-Installation.html#installing-python-on-your-pc) first. Once you have a working python environment in conda, install `jupyter-notebook` and `jupyterlab`:\n",
    "\n",
    "```\n",
    "$ conda install jupyter-notebook jupyterlab\n",
    "```"
   ]
  },
  {
   "cell_type": "markdown",
   "metadata": {},
   "source": [
    "In addition to Jupyter, you will also need the following python packages for the exercises:\n",
    "\n",
    "```\n",
    "$ conda install numpy scipy matplotlib dask xarray cartopy netcdf4\n",
    "```"
   ]
  },
  {
   "cell_type": "markdown",
   "metadata": {},
   "source": [
    "### Plan B"
   ]
  },
  {
   "cell_type": "markdown",
   "metadata": {},
   "source": [
    "If you are not able to run the notebooks on your laptop, I will give you access to an online platform that you can use for the rest of the semester."
   ]
  },
  {
   "cell_type": "markdown",
   "metadata": {},
   "source": [
    "### Launching the classic Notebook interface "
   ]
  },
  {
   "cell_type": "markdown",
   "metadata": {},
   "source": [
    "To start the **classic notebook** interface, type the following command in a terminal window:\n",
    "         \n",
    "```\n",
    "$ jupyter-notebook\n",
    "```\n",
    "\n",
    "A new tab in your default web browser will be opened. This is the **\"notebook explorer\"**. From this window you can navigate through your folders, open existing notebooks like this one or create new ones (\"New\" button on the upper right panel). The root directory in the explorer will always be the folder from which you started the interface."
   ]
  },
  {
   "cell_type": "markdown",
   "metadata": {},
   "source": [
    "After creating a new notebook you will be presented with several things: the **notebook name** appears right next to the jupyter sign at the very top of the page. The new notebook will be named \"untitled\", but you can change this at any time by clicking on the name. Below the toolbar, you can see a **code cell**. This is the default type of cell in a jupyter-notbook and you can write and execute python code with it. There is another cell type called **markdown**, in which you can write simple text like the one you actually read right now. "
   ]
  },
  {
   "cell_type": "markdown",
   "metadata": {},
   "source": [
    "```{note}\n",
    "Do not close the terminal from which you started the notebook. This is where python is \"actually\" running: the browser only sends commands to this running instance of python in your terminal.\n",
    "```"
   ]
  },
  {
   "cell_type": "markdown",
   "metadata": {},
   "source": [
    "### Launching the Jupyterlab interface "
   ]
  },
  {
   "cell_type": "markdown",
   "metadata": {},
   "source": [
    "Jupyterlab is the most recent interface to write and run Jupyter Notebooks. It is more modern than the classic interface, has more options and is slightly more complicated at first. I do not mind which interface you use, both are fine. \n",
    "\n",
    "To start the **jupyterlab** interface, type the following command in a terminal window:\n",
    "         \n",
    "        $ jupyter-lab\n",
    "\n",
    "Like for the classic interface, jupyterlab runs in your browser. You can open a new notebook with the \"launcher\" button. You can explore files with the file explorer on the left."
   ]
  },
  {
   "cell_type": "markdown",
   "metadata": {},
   "source": [
    "### Download and run a notebook "
   ]
  },
  {
   "cell_type": "markdown",
   "metadata": {},
   "source": [
    "To run a notebook, you can:\n",
    "- click on the \"download\" button on the top right of each page and copy it in your working directory.\n",
    "- visit the book's [repository](https://github.com/fmaussion/climate_system) and download the files from there.\n",
    "\n",
    "Then open the file either from notebook classic or jupyterlab."
   ]
  },
  {
   "cell_type": "markdown",
   "metadata": {},
   "source": [
    "## What's next "
   ]
  },
  {
   "cell_type": "markdown",
   "metadata": {},
   "source": [
    "You are now ready for the practicals! Head to the first notebook for your first steps."
   ]
  }
 ],
 "metadata": {
  "kernelspec": {
   "display_name": "Python 3",
   "language": "python",
   "name": "python3"
  },
  "language_info": {
   "codemirror_mode": {
    "name": "ipython",
    "version": 3
   },
   "file_extension": ".py",
   "mimetype": "text/x-python",
   "name": "python",
   "nbconvert_exporter": "python",
   "pygments_lexer": "ipython3",
   "version": "3.8.5"
  }
 },
 "nbformat": 4,
 "nbformat_minor": 4
}
