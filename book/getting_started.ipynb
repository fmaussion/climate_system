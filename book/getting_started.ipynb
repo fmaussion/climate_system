{
 "cells": [
  {
   "cell_type": "markdown",
   "metadata": {},
   "source": [
    "# Getting started with Jupyter Notebooks"
   ]
  },
  {
   "cell_type": "markdown",
   "metadata": {},
   "source": [
    "Jupyter Notebooks have become a central tool of the scientific python ecosystem. The advantage of jupyter notebooks over traditional code scripts in text files is that they can include text, code, and plots *in the same document*. Notebooks are a fantastic tool to explore data or models and to communicate about science. \n",
    "\n",
    "Notebooks are an ideal playground for learning python and write your homework, without having to jump between several documents! We will use notebooks for the entire class. **In fact, this webpage (and all others in this book) are written in Jupyter Notebooks.**"
   ]
  },
  {
   "cell_type": "markdown",
   "metadata": {},
   "source": [
    "## Running Notebooks for the climate class"
   ]
  },
  {
   "cell_type": "markdown",
   "metadata": {},
   "source": [
    "### Testing the use of Jupyter online"
   ]
  },
  {
   "cell_type": "markdown",
   "metadata": {},
   "source": [
    "The simplest way to try using a notebook is to use the \"Launch Binder\" button on the top of each page. This will open an interactive session in your browser. "
   ]
  },
  {
   "cell_type": "markdown",
   "metadata": {},
   "source": [
    "```{warning}\n",
    "Interactive sessions on MyBinder are **temporary**. After 10 mins of inactivity or after closing the tab, you won't be able to recover your changes.\n",
    "\n",
    "For tutorials, this is perfect. For the exercises, I'd rather recommend to use your own laptop or the computer room.\n",
    "```"
   ]
  },
  {
   "cell_type": "markdown",
   "metadata": {},
   "source": [
    "### Installing Jupyter on your computer"
   ]
  },
  {
   "cell_type": "markdown",
   "metadata": {},
   "source": [
    "If you did not follow my programming class last semester, [follow these instructions to install python](https://fabienmaussion.info/scientific_programming/week_01/01-Installation.html) first. This will provide you with a `(base)` environment with nothing but python installed.\n",
    "\n",
    "Then, follow the [instructions here](https://fabienmaussion.info/scientific_programming/week_02/01-install-packages.html) to create a new environment called `(climate)`. I'll repeat the steps here:\n",
    "\n",
    "\n",
    "```\n",
    "mamba create -n climate\n",
    "```\n",
    "\n",
    "Which will create a new empty environment. Activate it with: \n",
    "\n",
    "\n",
    "```\n",
    "mamba activate climate\n",
    "```\n",
    "\n",
    "Once in this environment, install the packages we will need for this class:\n",
    "\n",
    "\n",
    "```\n",
    "mamba install jupyterlab numpy scipy matplotlib xarray netcdf4 cartopy\n",
    "```\n",
    "\n",
    "That's it!"
   ]
  },
  {
   "cell_type": "markdown",
   "metadata": {},
   "source": [
    "### Installing Jupyter on your account in the computer room"
   ]
  },
  {
   "cell_type": "markdown",
   "metadata": {},
   "source": [
    "In the computer room, you will first have to [request an account](https://orawww.uibk.ac.at/public_prod/owa/uvw$web$10.p001) at ZiD. It can take some time (hours or days) to activate. Once you have an account, follow the instructions [here](https://fabienmaussion.info/scientific_programming/week_01/03-Installation-uni.html)."
   ]
  },
  {
   "cell_type": "markdown",
   "metadata": {},
   "source": [
    "### Plan C"
   ]
  },
  {
   "cell_type": "markdown",
   "metadata": {},
   "source": [
    "If you are not able to run the notebooks on your laptop or on the computer room, I will give you access to an online platform that you can use for the rest of the semester."
   ]
  },
  {
   "cell_type": "markdown",
   "metadata": {},
   "source": [
    "## Launching the Jupyterlab interface "
   ]
  },
  {
   "cell_type": "markdown",
   "metadata": {},
   "source": [
    "Jupyterlab is the most recent interface to write and run Jupyter Notebooks.\n",
    "\n",
    "To start the **jupyterlab** interface, type the following command in a terminal window:\n",
    "\n",
    "```\n",
    "jupyter-lab\n",
    "```\n",
    "\n",
    "Jupyterlab runs in your browser. You can open a new notebook with the \"launcher\" button. You can explore files with the file explorer on the left.\n",
    "\n",
    "```{note}\n",
    "Do not close the terminal from which you started jupyterlab. This is where python is \"actually\" running: the browser only sends commands to this running instance of python in your terminal.\n",
    "```"
   ]
  },
  {
   "cell_type": "markdown",
   "metadata": {},
   "source": [
    "## Download and run a notebook "
   ]
  },
  {
   "cell_type": "markdown",
   "metadata": {},
   "source": [
    "To run a notebook, you can:\n",
    "- click on the \"download\" button on the top right of each page and copy it in your working directory.\n",
    "- visit the book's [repository](https://github.com/fmaussion/climate_practicals_bsc) and download the files from there.\n",
    "\n",
    "Then open the file either from notebook classic or jupyterlab."
   ]
  },
  {
   "cell_type": "markdown",
   "metadata": {},
   "source": [
    "## What's next "
   ]
  },
  {
   "cell_type": "markdown",
   "metadata": {},
   "source": [
    "You are now ready for the practicals! Head to the first notebook for your first steps."
   ]
  }
 ],
 "metadata": {
  "kernelspec": {
   "display_name": "Python 3 (ipykernel)",
   "language": "python",
   "name": "python3"
  },
  "language_info": {
   "codemirror_mode": {
    "name": "ipython",
    "version": 3
   },
   "file_extension": ".py",
   "mimetype": "text/x-python",
   "name": "python",
   "nbconvert_exporter": "python",
   "pygments_lexer": "ipython3",
   "version": "3.10.6"
  }
 },
 "nbformat": 4,
 "nbformat_minor": 4
}
