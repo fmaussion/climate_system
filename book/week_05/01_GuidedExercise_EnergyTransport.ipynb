{
 "cells": [
  {
   "cell_type": "markdown",
   "metadata": {},
   "source": [
    "# Guided exercise: Energy Transport"
   ]
  },
  {
   "cell_type": "markdown",
   "metadata": {},
   "source": [
    "In this guided exercise we will revisit the energy balance, this time with ERA5 data instead of CERES. The main novelty of this lesson is **the computation of the meridional energy transport** from the TOA, using the numerical methods we learned last week. The code is on me, the questions are on you! Like always, I recommend to download this notebook and run it by yourself instead of reading it online."
   ]
  },
  {
   "cell_type": "code",
   "execution_count": null,
   "metadata": {},
   "outputs": [],
   "source": [
    "# Import the tools we are going to need today:\n",
    "import matplotlib.pyplot as plt  # plotting library\n",
    "import numpy as np  # numerical library\n",
    "import xarray as xr  # netCDF library\n",
    "import cartopy  # Map projections libary\n",
    "import cartopy.crs as ccrs  # Projections list\n",
    "# Some defaults:\n",
    "plt.rcParams['figure.figsize'] = (12, 5)  # Default plot size"
   ]
  },
  {
   "cell_type": "markdown",
   "metadata": {},
   "source": [
    "## Data "
   ]
  },
  {
   "cell_type": "markdown",
   "metadata": {},
   "source": [
    "We are going to work with a new file: [ERA5_LowRes_AnnualAvg_4D_eb.nc](https://cluster.klima.uni-bremen.de/~fmaussion/teaching/climate/ERA5_LowRes_AnnualAvg_4D_eb.nc)"
   ]
  },
  {
   "cell_type": "code",
   "execution_count": null,
   "metadata": {},
   "outputs": [],
   "source": [
    "ds = xr.open_dataset('../data/ERA5_LowRes_AnnualAvg_eb.nc')"
   ]
  },
  {
   "cell_type": "markdown",
   "metadata": {},
   "source": [
    "**Q: explore the data file. Some variables of the surface and TOA energy balance are missing, but they can be retrieved from the others: which ones?**"
   ]
  },
  {
   "cell_type": "code",
   "execution_count": null,
   "metadata": {},
   "outputs": [],
   "source": [
    "ds"
   ]
  },
  {
   "cell_type": "markdown",
   "metadata": {},
   "source": [
    "## Energy balance at the TOA"
   ]
  },
  {
   "cell_type": "markdown",
   "metadata": {},
   "source": [
    "We'll now compute the energy balance $E_{TOA}$ at the top of the atmosphere (TOA), as well as its global average:"
   ]
  },
  {
   "cell_type": "code",
   "execution_count": null,
   "metadata": {},
   "outputs": [],
   "source": [
    "# constants\n",
    "dx_rad = np.deg2rad(0.75)\n",
    "coslat = np.cos(np.deg2rad(ds.latitude))\n",
    "w = coslat / np.sum(coslat)\n",
    "r = 6371000"
   ]
  },
  {
   "cell_type": "code",
   "execution_count": null,
   "metadata": {},
   "outputs": [],
   "source": [
    "eb_toa = ds.tsr + ds.ttr"
   ]
  },
  {
   "cell_type": "code",
   "execution_count": null,
   "metadata": {},
   "outputs": [],
   "source": [
    "ax = plt.axes(projection=ccrs.Robinson())\n",
    "eb_toa.plot(ax=ax, transform=ccrs.PlateCarree())\n",
    "plt.title('$E_{TOA}$')\n",
    "ax.coastlines();"
   ]
  },
  {
   "cell_type": "code",
   "execution_count": null,
   "metadata": {},
   "outputs": [],
   "source": [
    "print('Incoming solar energy TOA: {:.0f} W m-2'.format((ds.tisr.mean(dim='longitude') * w).sum().data))\n",
    "print('Average E TOA: {:.2f} W m-2'.format((eb_toa.mean(dim='longitude') * w).sum().data))"
   ]
  },
  {
   "cell_type": "markdown",
   "metadata": {},
   "source": [
    "**Q: Is the energy budget for the total climate system balanced? Should it be? Compare the ERA5 radiative balance to [the one we obtained with CERES data](https://fabienmaussion.info/climate_system/week_02/01_Lesson_NetCDF_Data.html#arithmetics-and-averages-on-a-sphere) (0.97 W m$^{-2}$)**\n",
    "\n",
    "*Note: both datasets are in accordance with the current range of estimates of the Earth Energy Imbalance which ranges between 0.4 and 1 W m$^{-2}$ ([s1](https://journals.ametsoc.org/jcli/article/27/9/3129/35180/Earth-s-Energy-Imbalance), [s2](https://www.frontiersin.org/articles/10.3389/fmars.2019.00432/full))*"
   ]
  },
  {
   "cell_type": "markdown",
   "metadata": {},
   "source": [
    "## Energy transport from the TOA Energy Balance"
   ]
  },
  {
   "cell_type": "markdown",
   "metadata": {},
   "source": [
    "From the lecture, we remember that the total energy transport implied by the energy imbalance between the Equator and the Poles can be computed as:\n",
    "\n",
    "$$ ET(\\varphi)=\\int\\limits^{\\varphi}_{-\\pi/2}\\int\\limits^{2\\pi}_{0} E_{TOA} R^2\\cos\\varphi'd\\lambda d\\varphi' $$\n",
    "\n",
    "where $R$ is the Earth radius (about 6371 km), $\\varphi$ the latitude and $\\lambda$ the longitude."
   ]
  },
  {
   "cell_type": "markdown",
   "metadata": {},
   "source": [
    "We are going to start by performing the inner integration:\n",
    "\n",
    "$$\\int\\limits^{2\\pi}_{0} E_{TOA} R^2\\cos\\varphi'd\\lambda $$\n",
    "\n",
    "\n",
    "**Q: before I'll do it for you, think about what we are going to compute: what is the purpose of $\\cos\\varphi'$? Of $R^2$?**"
   ]
  },
  {
   "cell_type": "code",
   "execution_count": null,
   "metadata": {},
   "outputs": [],
   "source": [
    "intermediate_eb = (eb_toa * dx_rad).sum(dim='longitude') * r**2 * coslat"
   ]
  },
  {
   "cell_type": "markdown",
   "metadata": {},
   "source": [
    "**Q: what will be the shape of ``intermediate_eb``?**"
   ]
  },
  {
   "cell_type": "markdown",
   "metadata": {},
   "source": [
    "We will now perform the outer integration:\n",
    "\n",
    "$$ ET(\\varphi)=\\int\\limits^{\\varphi}_{-\\pi/2} E (\\varphi') d\\varphi' $$\n",
    "\n",
    "Where $E (\\varphi')$ is the intermediate variable we just computed."
   ]
  },
  {
   "cell_type": "code",
   "execution_count": null,
   "metadata": {},
   "outputs": [],
   "source": [
    "# ERA5 goes from North to South but we integrate from S to N: invert\n",
    "# I use cumsum here instead of trapz since the results are almost identical\n",
    "et_toa = np.cumsum(intermediate_eb[::-1] * dx_rad, axis=0) / 1e15"
   ]
  },
  {
   "cell_type": "code",
   "execution_count": null,
   "metadata": {},
   "outputs": [],
   "source": [
    "et_toa.plot();\n",
    "plt.hlines(0, -90, 90, linestyles=':')\n",
    "plt.xlim([-90, 90]);"
   ]
  },
  {
   "cell_type": "markdown",
   "metadata": {},
   "source": [
    "**Q: Note that the transport is not zero at the North Pole. Can you guess why? Is this bad?**"
   ]
  },
  {
   "cell_type": "markdown",
   "metadata": {},
   "source": [
    "## Energy balance at the surface"
   ]
  },
  {
   "cell_type": "markdown",
   "metadata": {},
   "source": [
    "Now let's compute the energy balance at the surface $E_{Surf}$ as well as its average. Unlike with CERES data, we now have the opportunity to compute all fluxes at the surface (not only the radiative ones):"
   ]
  },
  {
   "cell_type": "code",
   "execution_count": null,
   "metadata": {},
   "outputs": [],
   "source": [
    "eb_surf = ds.str + ds.ssr + ds.sshf + ds.slhf\n",
    "ax = plt.axes(projection=ccrs.Robinson())\n",
    "eb_surf.plot(ax=ax, transform=ccrs.PlateCarree())\n",
    "plt.title('$E_{Surf}$')\n",
    "ax.coastlines();"
   ]
  },
  {
   "cell_type": "code",
   "execution_count": null,
   "metadata": {},
   "outputs": [],
   "source": [
    "print('Average SW Down: {:.0f} W m-2'.format((ds.ssrd.mean(dim='longitude') * w).sum().data))\n",
    "print('Average SW UP: {:.0f} W m-2'.format(((ds.ssr - ds.ssrd).mean(dim='longitude') * w).sum().data))\n",
    "print('Average LW Down: {:.0f} W m-2'.format((ds.strd.mean(dim='longitude') * w).sum().data))\n",
    "print('Average LW UP: {:.0f} W m-2'.format(((ds.str - ds.strd).mean(dim='longitude') * w).sum().data))\n",
    "print('Average Sensible HF: {:.0f} W m-2'.format((ds.sshf.mean(dim='longitude') * w).sum().data))\n",
    "print('Average Latent HF: {:.0f} W m-2'.format((ds.slhf.mean(dim='longitude') * w).sum().data))\n",
    "print('Average EB Surface: {:.0f} W m-2'.format((eb_surf.mean(dim='longitude') * w).sum().data))"
   ]
  },
  {
   "cell_type": "markdown",
   "metadata": {},
   "source": [
    "**Q: Is the surface energy budget balanced? Should it be? Compare the values above with the values we discussed in the lecture. For reference, here is the figure again:**\n",
    "\n",
    "\n",
    "<img src=\"http://www.skepticalscience.com/pics/Figure1.png\" width=\"50%\">"
   ]
  },
  {
   "cell_type": "markdown",
   "metadata": {},
   "source": [
    "*Note: errors in reanalysis data are aknowledged and discussed. See for example [this paper](http://onlinelibrary.wiley.com/doi/10.1002/qj.864/pdf) for a discussion with ERA-Interim, the dataset prior to ERA5.*"
   ]
  },
  {
   "cell_type": "markdown",
   "metadata": {},
   "source": [
    "## Energy balance of the atmosphere"
   ]
  },
  {
   "cell_type": "markdown",
   "metadata": {},
   "source": [
    "I'll now compute the energy balance of the atmosphere $E_{Atm}$ as the residual of the energy balance at the surface and at the top of the atmosphere (note: this assumes that the entire residual of the surface EB is also taken from the atmosphere):"
   ]
  },
  {
   "cell_type": "code",
   "execution_count": null,
   "metadata": {},
   "outputs": [],
   "source": [
    "eb_atm = eb_toa - eb_surf\n",
    "ax = plt.axes(projection=ccrs.Robinson())\n",
    "eb_atm.plot(ax=ax, transform=ccrs.PlateCarree())\n",
    "plt.title('$E_{Atm}$')\n",
    "ax.coastlines();"
   ]
  },
  {
   "cell_type": "code",
   "execution_count": null,
   "metadata": {},
   "outputs": [],
   "source": [
    "print('Average E Atm: {:.2f} W m-2'.format((eb_atm.mean(dim='longitude') * w).sum().data))"
   ]
  },
  {
   "cell_type": "markdown",
   "metadata": {},
   "source": [
    "**Q: Is the atmosphere energy budget balanced? Should it be?**"
   ]
  },
  {
   "cell_type": "markdown",
   "metadata": {},
   "source": [
    "The energy transported by the atmosphere can be computed with the exact same methodology:\n",
    "\n",
    "$$ ET_{Atm}(\\varphi)=\\int\\limits^{\\varphi}_{-\\pi/2}\\int\\limits^{2\\pi}_{0} E_{Atm} R^2\\cos\\varphi'd\\lambda d\\varphi' $$\n",
    "\n",
    "Let's compute the energy transport the same way as we did before:"
   ]
  },
  {
   "cell_type": "code",
   "execution_count": null,
   "metadata": {},
   "outputs": [],
   "source": [
    "intermediate_eb = (eb_atm * dx_rad).sum(dim='longitude') * r**2 * coslat\n",
    "et_atm = np.cumsum(intermediate_eb[::-1] * dx_rad, axis=0) / 1e15"
   ]
  },
  {
   "cell_type": "code",
   "execution_count": null,
   "metadata": {},
   "outputs": [],
   "source": [
    "et_toa.plot(label='$ET_{TOA}$')\n",
    "et_atm.plot(label='$ET_{Atm}$')\n",
    "plt.hlines(0, -90, 90, linestyles=':')\n",
    "plt.xlim([-90, 90])\n",
    "plt.legend();"
   ]
  },
  {
   "cell_type": "markdown",
   "metadata": {},
   "source": [
    "**Q Are you satisfied with the results? What are the major issues with this plot?**"
   ]
  },
  {
   "cell_type": "markdown",
   "metadata": {},
   "source": [
    "## Energy transport of the atmosphere and the oceans"
   ]
  },
  {
   "cell_type": "markdown",
   "metadata": {},
   "source": [
    "To compute the theoretical energy transport, we have to aknowledge that the energy budget has to be closed for the integration to work.\n",
    "\n",
    "We now apply a bias correction to $E_{TOA}$ and $E_{Atm}$ by substracting the residual of the energy balance closure (so that the budget is balanced):"
   ]
  },
  {
   "cell_type": "code",
   "execution_count": null,
   "metadata": {},
   "outputs": [],
   "source": [
    "# Bias corrected TOA Transport\n",
    "eb_toa_cor = eb_toa - (eb_toa.mean(dim='longitude') * w).sum()\n",
    "intermediate_eb = (eb_toa_cor * dx_rad).sum(dim='longitude') * r**2 * coslat\n",
    "et_toa = np.cumsum(intermediate_eb[::-1] * dx_rad, axis=0) / 1e15\n",
    "# Bias corrected Atm Transport\n",
    "eb_atm_cor = eb_atm - (eb_atm.mean(dim='longitude') * w).sum()\n",
    "intermediate_eb = (eb_atm_cor * dx_rad).sum(dim='longitude') * r**2 * coslat\n",
    "et_atm = np.cumsum(intermediate_eb[::-1] * dx_rad, axis=0) / 1e15"
   ]
  },
  {
   "cell_type": "markdown",
   "metadata": {},
   "source": [
    "By noting that the total energy transport must be the sum of the transport by the atmosphere and by the oceans we can also compute $ET_{Ocean}$:"
   ]
  },
  {
   "cell_type": "code",
   "execution_count": null,
   "metadata": {},
   "outputs": [],
   "source": [
    "et_ocean = et_toa - et_atm"
   ]
  },
  {
   "cell_type": "code",
   "execution_count": null,
   "metadata": {},
   "outputs": [],
   "source": [
    "et_toa.plot(label='$ET_{TOA}$', color='k')\n",
    "et_atm.plot(label='$ET_{Atm}$', color='r')\n",
    "et_ocean.plot(label='$ET_{Ocean}$', color='b')\n",
    "plt.hlines(0, -90, 90, linestyles=':', color='k')\n",
    "plt.xlim([-90, 90])\n",
    "plt.legend();"
   ]
  },
  {
   "cell_type": "markdown",
   "metadata": {},
   "source": [
    "**Q: compare it to the plot by Fasullo and Trenberth (2008) that we analysed during the lecture.**\n",
    "\n",
    "<img src=\"https://www.dropbox.com/s/2oym6udq1c7x0ns/fasullo_trenberth_2008.png?dl=1\" width=\"50%\">"
   ]
  },
  {
   "cell_type": "markdown",
   "metadata": {},
   "source": [
    "## Add-on: same with CERES data "
   ]
  },
  {
   "cell_type": "code",
   "execution_count": null,
   "metadata": {},
   "outputs": [],
   "source": [
    "ds = xr.open_dataset('../data/CERES_EBAF-TOA_Ed4.1_Clim-2005-2015.nc')\n",
    "# constants\n",
    "dx_rad = np.deg2rad(1)\n",
    "coslat = np.cos(np.deg2rad(ds.lat))\n",
    "w = coslat / np.sum(coslat)\n",
    "r = 6371000\n",
    "# Compute\n",
    "eb_toa = (ds.solar_clim - ds.toa_sw_all_clim - ds.toa_lw_all_clim).mean(dim='month')\n",
    "# Correct\n",
    "eb_toa = eb_toa - (eb_toa.mean(dim='lon') * w).sum()\n",
    "intermediate_eb = (eb_toa * dx_rad).sum(dim='lon') * r**2 * coslat\n",
    "et_toa_ceres = np.cumsum(intermediate_eb * dx_rad, axis=0) / 1e15"
   ]
  },
  {
   "cell_type": "code",
   "execution_count": null,
   "metadata": {},
   "outputs": [],
   "source": [
    "et_toa.plot(label='$ET_{TOA}$', color='k')\n",
    "et_toa_ceres.plot(label='$ET_{TOA_{CERES}}$', color='k', linestyle='--')\n",
    "et_atm.plot(label='$ET_{Atm}$', color='r')\n",
    "et_ocean.plot(label='$ET_{Ocean}$', color='b')\n",
    "plt.hlines(0, -90, 90, linestyles=':')\n",
    "plt.xlim([-90, 90])\n",
    "plt.legend();"
   ]
  },
  {
   "cell_type": "markdown",
   "metadata": {},
   "source": [
    "## To go further"
   ]
  },
  {
   "cell_type": "markdown",
   "metadata": {},
   "source": [
    "If you are interested, I recommend you have a look at the various terms of the TOA and surface energy balances and see if you can understand most of the patterns you observe. You can also plot their zonal average and analyse their respective importance according to latitude."
   ]
  }
 ],
 "metadata": {
  "hide_input": false,
  "kernelspec": {
   "display_name": "Python 3 (ipykernel)",
   "language": "python",
   "name": "python3"
  },
  "language_info": {
   "codemirror_mode": {
    "name": "ipython",
    "version": 3
   },
   "file_extension": ".py",
   "mimetype": "text/x-python",
   "name": "python",
   "nbconvert_exporter": "python",
   "pygments_lexer": "ipython3",
   "version": "3.10.6"
  },
  "latex_envs": {
   "LaTeX_envs_menu_present": true,
   "autoclose": false,
   "autocomplete": true,
   "bibliofile": "biblio.bib",
   "cite_by": "apalike",
   "current_citInitial": 1,
   "eqLabelWithNumbers": true,
   "eqNumInitial": 1,
   "hotkeys": {
    "equation": "Ctrl-E",
    "itemize": "Ctrl-I"
   },
   "labels_anchors": false,
   "latex_user_defs": false,
   "report_style_numbering": false,
   "user_envs_cfg": false
  },
  "nbTranslate": {
   "displayLangs": [
    "*"
   ],
   "hotkey": "alt-t",
   "langInMainMenu": true,
   "sourceLang": "en",
   "targetLang": "fr",
   "useGoogleTranslate": true
  },
  "toc": {
   "base_numbering": 1,
   "nav_menu": {},
   "number_sections": false,
   "sideBar": true,
   "skip_h1_title": true,
   "title_cell": "Table of Contents",
   "title_sidebar": "Contents",
   "toc_cell": false,
   "toc_position": {},
   "toc_section_display": true,
   "toc_window_display": false
  }
 },
 "nbformat": 4,
 "nbformat_minor": 4
}
