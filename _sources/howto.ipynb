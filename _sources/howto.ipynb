{
 "cells": [
  {
   "cell_type": "markdown",
   "metadata": {},
   "source": [
    "# How to use this website and prepare for each week"
   ]
  },
  {
   "cell_type": "markdown",
   "metadata": {},
   "source": [
    "Before going further, make sure that you have read the [Getting Started](./getting_started.ipynb) instructions."
   ]
  },
  {
   "cell_type": "markdown",
   "metadata": {},
   "source": [
    "## Organizing your notebooks "
   ]
  },
  {
   "cell_type": "markdown",
   "metadata": {},
   "source": [
    "The notebooks are central to this lecture. We won't use anything else then notebooks to write code (+ text!) and you will have to return notebooks as final project report."
   ]
  },
  {
   "cell_type": "markdown",
   "metadata": {},
   "source": [
    "With the exception of Week 01 (for which I recommend to use MyBinder), **all notebooks should be downloaded and run on your machine**. You will also be asked to download data files ([instructions](download)). I recommend to organize your code and data so that you can have easy access to both. For example, my notebooks are organized in a weekly folder, and alongside my weekly folders there is a `data` folder where my data is stored. This way, all my paths in notebooks look like:\n",
    "\n",
    "```\n",
    "ds = xr.open_dataset(r'../data/CERES_EBAF-TOA_Ed4.1_Clim-2005-2015.nc')\n",
    "```\n",
    "\n",
    "The `../` is to navigate to the parent folder, and from there I can find the data file."
   ]
  },
  {
   "cell_type": "markdown",
   "metadata": {},
   "source": [
    "## Preparing for each week"
   ]
  },
  {
   "cell_type": "markdown",
   "metadata": {},
   "source": [
    "Each week is organized around two notebooks:\n",
    "- a \"lesson\", where you will learn new tools and which is mostly \"click through\" code that I wrote (and that you'll re-use later) with some understanding questions in between.\n",
    "- an \"assignment\", where you'll apply the tools you've learned before."
   ]
  },
  {
   "cell_type": "markdown",
   "metadata": {},
   "source": [
    "```{note}\n",
    "The **main objective of the practicals is to learn about the climate system from the plots and analyses**. Learning to use the notebooks and xarray is important as well, but only secondary!\n",
    "```"
   ]
  },
  {
   "cell_type": "markdown",
   "metadata": {},
   "source": [
    "## Tips for the presenting group "
   ]
  },
  {
   "cell_type": "markdown",
   "metadata": {},
   "source": [
    "Each week, a volunteer group will present their results to the rest of the class. This part is not graded and will have no negative effect whatsoever on the rest of the class. The main objective of the group presentations is for me to focus on what is *really* creating problems for students (as opposed to me *assuming* what will). \n",
    "\n",
    "**Here are a few suggestions to prepare your contributions**:\n",
    "- Make sure that you have managed to do parts of the requested analyses. It doesn't have to be all of them or being 100% perfect (nothing is!), but if you have substantial problems with one exercise please contact me beforehand.\n",
    "- In your presentations, focus on the \"assignment\" notebook. If one of the points or questions in the \"lesson\" notebook was unclear for you, feel free to discuss as well!\n",
    "- Focus on the main plots / analyses and what you didn't understand well: there are no stupid questions or comments! If you don't understand something, feel free to address this in your presentation: it is very likely that all of us have the same issues."
   ]
  }
 ],
 "metadata": {
  "kernelspec": {
   "display_name": "Python 3 (ipykernel)",
   "language": "python",
   "name": "python3"
  },
  "language_info": {
   "codemirror_mode": {
    "name": "ipython",
    "version": 3
   },
   "file_extension": ".py",
   "mimetype": "text/x-python",
   "name": "python",
   "nbconvert_exporter": "python",
   "pygments_lexer": "ipython3",
   "version": "3.10.6"
  }
 },
 "nbformat": 4,
 "nbformat_minor": 4
}
