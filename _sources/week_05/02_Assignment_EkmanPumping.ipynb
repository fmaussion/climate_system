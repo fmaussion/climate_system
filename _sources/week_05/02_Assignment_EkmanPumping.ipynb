{
 "cells": [
  {
   "cell_type": "markdown",
   "metadata": {},
   "source": [
    "# Assignment: Ekman Pumping"
   ]
  },
  {
   "cell_type": "markdown",
   "metadata": {},
   "source": [
    "In this exercise we will apply the lesson learned about derivatives in Python to compute the Ekman transport in the ocean, and then compute the associated up- and downwelling."
   ]
  },
  {
   "cell_type": "code",
   "execution_count": 1,
   "metadata": {},
   "outputs": [],
   "source": [
    "# Import the tools we are going to need today:\n",
    "import matplotlib.pyplot as plt  # plotting library\n",
    "import numpy as np  # numerical library\n",
    "import xarray as xr  # netCDF library\n",
    "import cartopy  # Map projections libary\n",
    "import cartopy.crs as ccrs  # Projections list\n",
    "# Some defaults:\n",
    "plt.rcParams['figure.figsize'] = (12, 5)  # Default plot size"
   ]
  },
  {
   "cell_type": "markdown",
   "metadata": {},
   "source": [
    "## Data "
   ]
  },
  {
   "cell_type": "markdown",
   "metadata": {},
   "source": [
    "We are going to work again with the ``ERA5_LowRes_MonthlyAvg_uvslp.nc`` and the ``ERA5_LowRes_Invariant.nc`` files that you already downloaded for a previous unit:"
   ]
  },
  {
   "cell_type": "code",
   "execution_count": 2,
   "metadata": {},
   "outputs": [],
   "source": [
    "ds = xr.open_dataset('../data/ERA5_LowRes_MonthlyAvg_uvslp.nc')\n",
    "dsi = xr.open_dataset('../data/ERA5_LowRes_Invariant.nc').isel(time=0)"
   ]
  },
  {
   "cell_type": "markdown",
   "metadata": {},
   "source": [
    "## Surface wind stress on the oceans"
   ]
  },
  {
   "cell_type": "markdown",
   "metadata": {},
   "source": [
    "If you remember the lesson (*Oceans*), the stress exerted by surface winds on the ocean can be reasonably well approximated by the bulk formula (Marshall and Plumb, p198):\n",
    "\n",
    "$$(\\tau_{wind_x}, \\tau_{wind_y}) = \\rho_{air} c_D ws_{10} (u_{10}, v_{10})$$\n",
    "\n",
    "Where $c_D$ is a bulk transfer coefficient for momentum (here we use $c_D$ = 1.5$\\times$10$^{-3}$), $\\rho_{air}$ is the denisty of air at the surface (here we use $\\rho_{air}$ = 1.225 kg m$^3$), $ws$ is the wind speed at 10 m, and $u_{10}$ , $v_{10}$ are the components of the wind vector at 10 m height."
   ]
  },
  {
   "cell_type": "markdown",
   "metadata": {},
   "source": [
    "**Q: $\\tau$ is expressed in N m$^{-2}$. verify that $c_D$ is a dimensionless quantity.**"
   ]
  },
  {
   "cell_type": "markdown",
   "metadata": {},
   "source": [
    "**E: compute $\\overline{\\tau_x}$ and $\\overline{\\tau_y}$. This quantity only makes sense over the oceans. Read the invariant data and keep only the values of $\\overline{\\tau_x}$ and $\\overline{\\tau_y}$ over the oceans.**"
   ]
  },
  {
   "cell_type": "code",
   "execution_count": 3,
   "metadata": {},
   "outputs": [],
   "source": [
    "# Your answer here"
   ]
  },
  {
   "cell_type": "markdown",
   "metadata": {},
   "source": [
    "**E: compute the total wind stress $\\tau = \\sqrt{\\tau_x^2 + \\tau_y^2}$. Plot it on a map using the colormap \"Greens\" (so that you can compare with the lecture). Add the ($\\tau_x$, $\\tau_y$) vectors as arrows on top.**"
   ]
  },
  {
   "cell_type": "code",
   "execution_count": 4,
   "metadata": {},
   "outputs": [],
   "source": [
    "# Your answer here"
   ]
  },
  {
   "cell_type": "markdown",
   "metadata": {},
   "source": [
    "## Ekman transport"
   ]
  },
  {
   "cell_type": "markdown",
   "metadata": {},
   "source": [
    "The transport of water integrated over the Ekman layer is written (Marshall and Plumb, p200):\n",
    "    \n",
    "$$M_{ek} = \\frac{\\tau_{wind} \\times \\hat{z}}{f}$$\n",
    "\n",
    "Or, in the component form:\n",
    "\n",
    "$$m_{ek_{x}} = \\frac{\\tau_{wind_y}}{f} $$\n",
    "\n",
    "$$m_{ek_{y}} = -\\frac{\\tau_{wind_x}}{f} $$"
   ]
  },
  {
   "cell_type": "markdown",
   "metadata": {},
   "source": [
    "**E: first, we need to compute the coriolis parameter $f$:**"
   ]
  },
  {
   "cell_type": "code",
   "execution_count": 5,
   "metadata": {},
   "outputs": [],
   "source": [
    "f = 2. * 7.2921150e-5 * np.sin(np.deg2rad(ds.latitude))\n",
    "f = f.where((np.abs(ds.latitude) > 3) & (np.abs(ds.latitude) < 87))  # Mask out the poles and equator regions"
   ]
  },
  {
   "cell_type": "markdown",
   "metadata": {},
   "source": [
    "**E: compute the components mek_x and mek_y. Plot the transport vectors on a map using the quiver() function. Discuss.**"
   ]
  },
  {
   "cell_type": "code",
   "execution_count": 6,
   "metadata": {},
   "outputs": [],
   "source": [
    "# Your answer here"
   ]
  },
  {
   "cell_type": "markdown",
   "metadata": {},
   "source": [
    "## Ekman pumping "
   ]
  },
  {
   "cell_type": "markdown",
   "metadata": {},
   "source": [
    "The convergence (or divergence) of the Ekman transport fields generates a vertical motion at the bottom of the Ekman Layer called Ekman pumping. It is written as (Marshall and Plumb, p204):\n",
    "\n",
    "$$w_{ek} = \\frac{1}{\\rho_{0}} \\left( \\frac{\\partial}{\\partial x} \\frac{\\tau_{wind_{y}}}{f} - \\frac{\\partial}{\\partial y} \\frac{\\tau_{wind_{x}}}{f} \\right)$$\n",
    "\n",
    "with $\\rho_{0}$ the density of water at the ocean surface, here assumed to be 1000 kg m$^{-3}$."
   ]
  },
  {
   "cell_type": "markdown",
   "metadata": {},
   "source": [
    "As discussed in the lesson, we shouldn't forget that we are using data defined in spherical coordinates. The partial derivatives in (x, y) are computed from spherical coordinates as:  \n",
    "\n",
    "$$\\frac{\\partial}{\\partial x} = \\frac{1}{R \\cos \\varphi}\\frac{\\partial}{\\partial\\lambda}$$\n",
    "\n",
    "$$\\frac{\\partial}{\\partial y} = \\frac{1}{R}\\frac{\\partial}{\\partial\\varphi}$$"
   ]
  },
  {
   "cell_type": "markdown",
   "metadata": {},
   "source": [
    "**E: compute the partial derivatives $\\frac{\\partial}{\\partial \\lambda} \\frac{\\tau_{wind_{y}}}{f}$ and $-\\frac{\\partial}{\\partial \\varphi} \\frac{\\tau_{wind_{x}}}{f}$ out of tau_x and tau_y, and store them in the variables dlambda and dphi.** Hint: you will need *two* calls to `np.gradient()` to do this computation, each call returning one variable that you will need and another that you won't need. This second useless variable can be called \"tmp\" in each call for example. "
   ]
  },
  {
   "cell_type": "code",
   "execution_count": 7,
   "metadata": {},
   "outputs": [
    {
     "ename": "NameError",
     "evalue": "name 'tau_y' is not defined",
     "output_type": "error",
     "traceback": [
      "\u001b[0;31m---------------------------------------------------------------------------\u001b[0m",
      "\u001b[0;31mNameError\u001b[0m                                 Traceback (most recent call last)",
      "\u001b[0;32m/tmp/ipykernel_13454/1181974712.py\u001b[0m in \u001b[0;36m<cell line: 1>\u001b[0;34m()\u001b[0m\n\u001b[0;32m----> 1\u001b[0;31m \u001b[0m_\u001b[0m\u001b[0;34m,\u001b[0m \u001b[0mdlambda\u001b[0m \u001b[0;34m=\u001b[0m \u001b[0mnp\u001b[0m\u001b[0;34m.\u001b[0m\u001b[0mgradient\u001b[0m\u001b[0;34m(\u001b[0m\u001b[0mtau_y\u001b[0m \u001b[0;34m/\u001b[0m \u001b[0mf\u001b[0m\u001b[0;34m,\u001b[0m \u001b[0;34m-\u001b[0m\u001b[0mnp\u001b[0m\u001b[0;34m.\u001b[0m\u001b[0mdeg2rad\u001b[0m\u001b[0;34m(\u001b[0m\u001b[0;36m0.75\u001b[0m\u001b[0;34m)\u001b[0m\u001b[0;34m,\u001b[0m \u001b[0mnp\u001b[0m\u001b[0;34m.\u001b[0m\u001b[0mdeg2rad\u001b[0m\u001b[0;34m(\u001b[0m\u001b[0;36m0.75\u001b[0m\u001b[0;34m)\u001b[0m\u001b[0;34m)\u001b[0m\u001b[0;34m\u001b[0m\u001b[0;34m\u001b[0m\u001b[0m\n\u001b[0m\u001b[1;32m      2\u001b[0m \u001b[0mdphi\u001b[0m\u001b[0;34m,\u001b[0m \u001b[0m_\u001b[0m \u001b[0;34m=\u001b[0m \u001b[0mnp\u001b[0m\u001b[0;34m.\u001b[0m\u001b[0mgradient\u001b[0m\u001b[0;34m(\u001b[0m\u001b[0mtau_x\u001b[0m \u001b[0;34m/\u001b[0m \u001b[0mf\u001b[0m\u001b[0;34m,\u001b[0m \u001b[0;34m-\u001b[0m\u001b[0mnp\u001b[0m\u001b[0;34m.\u001b[0m\u001b[0mdeg2rad\u001b[0m\u001b[0;34m(\u001b[0m\u001b[0;36m0.75\u001b[0m\u001b[0;34m)\u001b[0m\u001b[0;34m,\u001b[0m \u001b[0mnp\u001b[0m\u001b[0;34m.\u001b[0m\u001b[0mdeg2rad\u001b[0m\u001b[0;34m(\u001b[0m\u001b[0;36m0.75\u001b[0m\u001b[0;34m)\u001b[0m\u001b[0;34m)\u001b[0m\u001b[0;34m\u001b[0m\u001b[0;34m\u001b[0m\u001b[0m\n",
      "\u001b[0;31mNameError\u001b[0m: name 'tau_y' is not defined"
     ]
    }
   ],
   "source": [
    "_, dlambda = np.gradient(tau_y / f, -np.deg2rad(0.75), np.deg2rad(0.75))\n",
    "dphi, _ = np.gradient(tau_x / f, -np.deg2rad(0.75), np.deg2rad(0.75))"
   ]
  },
  {
   "cell_type": "markdown",
   "metadata": {},
   "source": [
    "Now we will convert these numpy arrays back to xarray DataArrays:"
   ]
  },
  {
   "cell_type": "code",
   "execution_count": null,
   "metadata": {},
   "outputs": [],
   "source": [
    "dlambda = mek_x*0 + dlambda\n",
    "dphi = mek_x*0 + dphi"
   ]
  },
  {
   "cell_type": "markdown",
   "metadata": {},
   "source": [
    "**E: compute the factor fx = $\\frac{1}{R \\cos \\varphi}$ and fy = $\\frac{1}{R}$, with an Earth radius of 6371000 m.**"
   ]
  },
  {
   "cell_type": "code",
   "execution_count": null,
   "metadata": {},
   "outputs": [],
   "source": [
    "# Your answer here"
   ]
  },
  {
   "cell_type": "markdown",
   "metadata": {},
   "source": [
    "**E: you now have all elements to compute the Ekmann pumping \"wek\". What is its unit? Convert it to m yr$^{-1}$.**"
   ]
  },
  {
   "cell_type": "code",
   "execution_count": null,
   "metadata": {},
   "outputs": [],
   "source": [
    "# Your answer here"
   ]
  },
  {
   "cell_type": "markdown",
   "metadata": {},
   "source": [
    "**E: plot wek on a map. Set vmin and vmax to -50 and +50 and use another colormap (for example \"BrBG\"). Compare your plot with the one computed by Marshall and Plumb (p205). Discuss the major features of the plot. Where is upwelling taking place? Downwelling? Can you explain the location and strength of these features?** (click [here](https://www.dropbox.com/s/rrhtivvh7bf8ns4/pumping_map.png?dl=0) to see the plot by Marshall and Plumb)"
   ]
  },
  {
   "cell_type": "code",
   "execution_count": null,
   "metadata": {},
   "outputs": [],
   "source": [
    "# Your answer here"
   ]
  },
  {
   "cell_type": "markdown",
   "metadata": {},
   "source": [
    "## To go further"
   ]
  },
  {
   "cell_type": "markdown",
   "metadata": {},
   "source": [
    "Read the few pages of chapter 10.3 in the book of Marshall and Plumb (available on OLAT). In particular, we are interested in their Fig. 10.21 and equation 10.20. Can you think about a strategy to realize the same plot with our data? Without implementing it (unless you really really want to!), describe the steps needed to come to this result."
   ]
  }
 ],
 "metadata": {
  "hide_input": false,
  "kernelspec": {
   "display_name": "Python 3 (ipykernel)",
   "language": "python",
   "name": "python3"
  },
  "language_info": {
   "codemirror_mode": {
    "name": "ipython",
    "version": 3
   },
   "file_extension": ".py",
   "mimetype": "text/x-python",
   "name": "python",
   "nbconvert_exporter": "python",
   "pygments_lexer": "ipython3",
   "version": "3.10.6"
  },
  "latex_envs": {
   "LaTeX_envs_menu_present": true,
   "autoclose": false,
   "autocomplete": true,
   "bibliofile": "biblio.bib",
   "cite_by": "apalike",
   "current_citInitial": 1,
   "eqLabelWithNumbers": true,
   "eqNumInitial": 1,
   "hotkeys": {
    "equation": "Ctrl-E",
    "itemize": "Ctrl-I"
   },
   "labels_anchors": false,
   "latex_user_defs": false,
   "report_style_numbering": false,
   "user_envs_cfg": false
  },
  "nbTranslate": {
   "displayLangs": [
    "*"
   ],
   "hotkey": "alt-t",
   "langInMainMenu": true,
   "sourceLang": "en",
   "targetLang": "fr",
   "useGoogleTranslate": true
  },
  "toc": {
   "base_numbering": 1,
   "nav_menu": {},
   "number_sections": false,
   "sideBar": true,
   "skip_h1_title": true,
   "title_cell": "Table of Contents",
   "title_sidebar": "Contents",
   "toc_cell": false,
   "toc_position": {},
   "toc_section_display": true,
   "toc_window_display": false
  }
 },
 "nbformat": 4,
 "nbformat_minor": 4
}
